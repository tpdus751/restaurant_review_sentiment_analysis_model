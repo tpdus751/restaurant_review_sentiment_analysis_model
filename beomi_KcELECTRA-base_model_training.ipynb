{
 "cells": [
  {
   "cell_type": "code",
   "execution_count": 1,
   "id": "551fa5dc-aeca-4206-93c3-5c3c47e95286",
   "metadata": {},
   "outputs": [
    {
     "name": "stdout",
     "output_type": "stream",
     "text": [
      "PyTorch 버전: 1.10.2+cu113\n",
      "is CUDA available: True\n"
     ]
    }
   ],
   "source": [
    "import torch\n",
    "from transformers import AutoModelForSequenceClassification\n",
    "\n",
    "print(\"PyTorch 버전:\", torch.__version__)\n",
    "print(\"is CUDA available:\", torch.cuda.is_available())"
   ]
  },
  {
   "cell_type": "code",
   "execution_count": 2,
   "id": "48f68d40-4389-455c-ad79-eb2bfb1fa386",
   "metadata": {},
   "outputs": [],
   "source": [
    "import pandas as pd"
   ]
  },
  {
   "cell_type": "code",
   "execution_count": 3,
   "id": "75da267c-abbd-4855-aa14-dbf0acdea24a",
   "metadata": {},
   "outputs": [
    {
     "data": {
      "text/html": [
       "<div>\n",
       "<style scoped>\n",
       "    .dataframe tbody tr th:only-of-type {\n",
       "        vertical-align: middle;\n",
       "    }\n",
       "\n",
       "    .dataframe tbody tr th {\n",
       "        vertical-align: top;\n",
       "    }\n",
       "\n",
       "    .dataframe thead th {\n",
       "        text-align: right;\n",
       "    }\n",
       "</style>\n",
       "<table border=\"1\" class=\"dataframe\">\n",
       "  <thead>\n",
       "    <tr style=\"text-align: right;\">\n",
       "      <th></th>\n",
       "      <th>content</th>\n",
       "      <th>label</th>\n",
       "      <th>model_used</th>\n",
       "    </tr>\n",
       "  </thead>\n",
       "  <tbody>\n",
       "    <tr>\n",
       "      <th>0</th>\n",
       "      <td>^</td>\n",
       "      <td>2</td>\n",
       "      <td>gemma-lmstudio</td>\n",
       "    </tr>\n",
       "    <tr>\n",
       "      <th>1</th>\n",
       "      <td>^^\\n좋아요~</td>\n",
       "      <td>2</td>\n",
       "      <td>gemma-lmstudio</td>\n",
       "    </tr>\n",
       "    <tr>\n",
       "      <th>2</th>\n",
       "      <td>^^</td>\n",
       "      <td>2</td>\n",
       "      <td>gemma-lmstudio</td>\n",
       "    </tr>\n",
       "    <tr>\n",
       "      <th>3</th>\n",
       "      <td>^^ 동창모임 고급스럽고 맛있는 코스로 먹었어요!!</td>\n",
       "      <td>2</td>\n",
       "      <td>gemma-lmstudio</td>\n",
       "    </tr>\n",
       "    <tr>\n",
       "      <th>4</th>\n",
       "      <td>^^ 맛나용~~</td>\n",
       "      <td>2</td>\n",
       "      <td>gemma-lmstudio</td>\n",
       "    </tr>\n",
       "  </tbody>\n",
       "</table>\n",
       "</div>"
      ],
      "text/plain": [
       "                        content  label      model_used\n",
       "0                             ^      2  gemma-lmstudio\n",
       "1                      ^^\\n좋아요~      2  gemma-lmstudio\n",
       "2                            ^^      2  gemma-lmstudio\n",
       "3  ^^ 동창모임 고급스럽고 맛있는 코스로 먹었어요!!      2  gemma-lmstudio\n",
       "4                      ^^ 맛나용~~      2  gemma-lmstudio"
      ]
     },
     "execution_count": 3,
     "metadata": {},
     "output_type": "execute_result"
    }
   ],
   "source": [
    "review_df = pd.read_csv('./labeled_reviews_lmstudio_cleaned.csv')\n",
    "review_df.head()"
   ]
  },
  {
   "cell_type": "code",
   "execution_count": 7,
   "id": "e7010bdc-bbff-4ad9-a0bd-02d507a2c125",
   "metadata": {},
   "outputs": [
    {
     "name": "stdout",
     "output_type": "stream",
     "text": [
      "content       1\n",
      "label         0\n",
      "model_used    0\n",
      "dtype: int64\n"
     ]
    }
   ],
   "source": [
    "print(review_df.isnull().sum())"
   ]
  },
  {
   "cell_type": "code",
   "execution_count": 9,
   "id": "f2dc943b-40a7-43e1-9bc7-4c5b61a5d4bb",
   "metadata": {},
   "outputs": [
    {
     "name": "stdout",
     "output_type": "stream",
     "text": [
      "content       0\n",
      "label         0\n",
      "model_used    0\n",
      "dtype: int64\n"
     ]
    }
   ],
   "source": [
    "review_df = review_df.dropna()\n",
    "print(review_df.isnull().sum())"
   ]
  },
  {
   "cell_type": "code",
   "execution_count": 11,
   "id": "90036456-185a-495a-8dd4-7e842e5a9550",
   "metadata": {},
   "outputs": [],
   "source": [
    "import numpy as np\n",
    "\n",
    "cleaned_review = []\n",
    "\n",
    "for review in review_df['content']:\n",
    "  if len(review) < 2:\n",
    "      review = np.nan\n",
    "  else:\n",
    "    if review == '':\n",
    "      review = np.nan\n",
    "\n",
    "    review = review.strip()\n",
    "\n",
    "    if '\\n' in review:\n",
    "      review = review.replace('\\n', '')\n",
    "\n",
    "  cleaned_review.append(review)\n",
    "\n",
    "review_df['content'] = cleaned_review"
   ]
  },
  {
   "cell_type": "code",
   "execution_count": 13,
   "id": "f582757a-cf4b-4483-8203-ce4da51a434e",
   "metadata": {},
   "outputs": [
    {
     "name": "stdout",
     "output_type": "stream",
     "text": [
      "content       184\n",
      "label           0\n",
      "model_used      0\n",
      "dtype: int64\n"
     ]
    }
   ],
   "source": [
    "# 결측치 확인\n",
    "print(review_df.isnull().sum())"
   ]
  },
  {
   "cell_type": "code",
   "execution_count": 15,
   "id": "3539a4a8-1eb6-4ade-bbd8-4c6a814644bf",
   "metadata": {},
   "outputs": [
    {
     "name": "stdout",
     "output_type": "stream",
     "text": [
      "content       0\n",
      "label         0\n",
      "model_used    0\n",
      "dtype: int64\n"
     ]
    }
   ],
   "source": [
    "# 결측치 제거\n",
    "review_df = review_df.dropna()\n",
    "\n",
    "# 결측치 확인\n",
    "print(review_df.isnull().sum())"
   ]
  },
  {
   "cell_type": "code",
   "execution_count": 17,
   "id": "d75ed515-53b6-4c25-9437-ccfd5941b94e",
   "metadata": {},
   "outputs": [
    {
     "name": "stdout",
     "output_type": "stream",
     "text": [
      "중복 행 개수: 51\n"
     ]
    }
   ],
   "source": [
    "# 중복치 확인\n",
    "print(\"중복 행 개수:\", review_df.duplicated().sum())"
   ]
  },
  {
   "cell_type": "code",
   "execution_count": 19,
   "id": "ce44e7eb-1c89-42c6-972d-0947dfd7216e",
   "metadata": {},
   "outputs": [
    {
     "name": "stdout",
     "output_type": "stream",
     "text": [
      "중복치 제거 후 행 개수 : 368833\n"
     ]
    }
   ],
   "source": [
    "# 중복치 제거\n",
    "review_df = review_df.drop_duplicates()\n",
    "\n",
    "# 제거 후 개수\n",
    "print(\"중복치 제거 후 행 개수 :\", len(review_df))"
   ]
  },
  {
   "cell_type": "code",
   "execution_count": 21,
   "id": "30384851-eeb8-4308-bdf2-12b977ca5ff3",
   "metadata": {},
   "outputs": [
    {
     "data": {
      "text/html": [
       "<div>\n",
       "<style scoped>\n",
       "    .dataframe tbody tr th:only-of-type {\n",
       "        vertical-align: middle;\n",
       "    }\n",
       "\n",
       "    .dataframe tbody tr th {\n",
       "        vertical-align: top;\n",
       "    }\n",
       "\n",
       "    .dataframe thead th {\n",
       "        text-align: right;\n",
       "    }\n",
       "</style>\n",
       "<table border=\"1\" class=\"dataframe\">\n",
       "  <thead>\n",
       "    <tr style=\"text-align: right;\">\n",
       "      <th></th>\n",
       "      <th>label</th>\n",
       "      <th>count</th>\n",
       "    </tr>\n",
       "  </thead>\n",
       "  <tbody>\n",
       "    <tr>\n",
       "      <th>0</th>\n",
       "      <td>0</td>\n",
       "      <td>20852</td>\n",
       "    </tr>\n",
       "    <tr>\n",
       "      <th>1</th>\n",
       "      <td>1</td>\n",
       "      <td>49428</td>\n",
       "    </tr>\n",
       "    <tr>\n",
       "      <th>2</th>\n",
       "      <td>2</td>\n",
       "      <td>298553</td>\n",
       "    </tr>\n",
       "  </tbody>\n",
       "</table>\n",
       "</div>"
      ],
      "text/plain": [
       "   label   count\n",
       "0      0   20852\n",
       "1      1   49428\n",
       "2      2  298553"
      ]
     },
     "execution_count": 21,
     "metadata": {},
     "output_type": "execute_result"
    }
   ],
   "source": [
    "# 범주별 데이터 수 차이 확인을 위해 label groupby 집계\n",
    "review_df.groupby('label').size().reset_index(name='count')"
   ]
  },
  {
   "cell_type": "code",
   "execution_count": 23,
   "id": "217745f6-356b-4764-9447-f18e944787a2",
   "metadata": {},
   "outputs": [
    {
     "name": "stdout",
     "output_type": "stream",
     "text": [
      "Balanced class counts:\n",
      " label\n",
      "0    20852\n",
      "1    20852\n",
      "2    20852\n",
      "Name: count, dtype: int64\n"
     ]
    }
   ],
   "source": [
    "sample_size = review_df['label'].value_counts().min()\n",
    "balanced_df = review_df.groupby('label').sample(n=sample_size, random_state=42)\n",
    "print(\"Balanced class counts:\\n\", balanced_df['label'].value_counts())"
   ]
  },
  {
   "cell_type": "code",
   "execution_count": 25,
   "id": "a40eaad6-fcc0-4f23-a12f-b7c7ae5223a0",
   "metadata": {},
   "outputs": [],
   "source": [
    "# 분리\n",
    "input_list = balanced_df['content'].tolist()\n",
    "label_list = balanced_df['label'].tolist()"
   ]
  },
  {
   "cell_type": "code",
   "execution_count": null,
   "id": "beb122dc-9cae-4c61-8e40-c6c719a9067b",
   "metadata": {},
   "outputs": [],
   "source": [
    "balanced_df.groupby('label').size().reset_index(name='count')"
   ]
  },
  {
   "cell_type": "code",
   "execution_count": 27,
   "id": "ced4dfc2-0b81-47c1-8ea0-f08f627aa68d",
   "metadata": {},
   "outputs": [],
   "source": [
    "import pandas as pd\n",
    "from datasets import Dataset\n",
    "from transformers import AutoTokenizer, AutoModelForSequenceClassification, Trainer, TrainingArguments, DataCollatorWithPadding\n",
    "from sklearn.metrics import classification_report, f1_score\n",
    "from sklearn.model_selection import train_test_split\n",
    "import numpy as np\n",
    "import torch"
   ]
  },
  {
   "cell_type": "code",
   "execution_count": 29,
   "id": "28fda0fa-1352-45ca-9157-fdec177d0686",
   "metadata": {},
   "outputs": [],
   "source": [
    "# 1. 데이터 준비\n",
    "df = balanced_df[['content', 'label']].copy()\n",
    "df.columns = ['text', 'label']  # HuggingFace 형식에 맞게 컬럼명 변경"
   ]
  },
  {
   "cell_type": "code",
   "execution_count": 31,
   "id": "7f860a88-9705-4097-9668-9ea9234ee988",
   "metadata": {},
   "outputs": [],
   "source": [
    "# 2. train/test 분리 (stratify)\n",
    "train_df, test_df = train_test_split(df, test_size=0.2, stratify=df['label'], random_state=42)\n",
    "train_dataset = Dataset.from_pandas(train_df.reset_index(drop=True))\n",
    "test_dataset = Dataset.from_pandas(test_df.reset_index(drop=True))"
   ]
  },
  {
   "cell_type": "code",
   "execution_count": 33,
   "id": "25312cfc-63e4-4eec-b535-34c09de320d3",
   "metadata": {},
   "outputs": [
    {
     "name": "stderr",
     "output_type": "stream",
     "text": [
      "C:\\Users\\User\\anaconda3\\envs\\deepnlpenv\\lib\\site-packages\\huggingface_hub\\file_download.py:943: FutureWarning: `resume_download` is deprecated and will be removed in version 1.0.0. Downloads always resume when possible. If you want to force a new download, use `force_download=True`.\n",
      "  warnings.warn(\n"
     ]
    },
    {
     "data": {
      "application/vnd.jupyter.widget-view+json": {
       "model_id": "7453ff3e6fc04e3bb467991b1f4ae907",
       "version_major": 2,
       "version_minor": 0
      },
      "text/plain": [
       "tokenizer_config.json:   0%|          | 0.00/288 [00:00<?, ?B/s]"
      ]
     },
     "metadata": {},
     "output_type": "display_data"
    },
    {
     "name": "stderr",
     "output_type": "stream",
     "text": [
      "C:\\Users\\User\\anaconda3\\envs\\deepnlpenv\\lib\\site-packages\\huggingface_hub\\file_download.py:143: UserWarning: `huggingface_hub` cache-system uses symlinks by default to efficiently store duplicated files but your machine does not support them in C:\\Users\\User\\.cache\\huggingface\\hub\\models--beomi--KcELECTRA-base-v2022. Caching files will still work but in a degraded version that might require more space on your disk. This warning can be disabled by setting the `HF_HUB_DISABLE_SYMLINKS_WARNING` environment variable. For more details, see https://huggingface.co/docs/huggingface_hub/how-to-cache#limitations.\n",
      "To support symlinks on Windows, you either need to activate Developer Mode or to run Python as an administrator. In order to activate developer mode, see this article: https://docs.microsoft.com/en-us/windows/apps/get-started/enable-your-device-for-development\n",
      "  warnings.warn(message)\n"
     ]
    },
    {
     "data": {
      "application/vnd.jupyter.widget-view+json": {
       "model_id": "a297bfa732b445df93153d5e67ca3f73",
       "version_major": 2,
       "version_minor": 0
      },
      "text/plain": [
       "config.json:   0%|          | 0.00/504 [00:00<?, ?B/s]"
      ]
     },
     "metadata": {},
     "output_type": "display_data"
    },
    {
     "data": {
      "application/vnd.jupyter.widget-view+json": {
       "model_id": "bb9dcbd7f3e44b89b84cea48d55c9523",
       "version_major": 2,
       "version_minor": 0
      },
      "text/plain": [
       "vocab.txt: 0.00B [00:00, ?B/s]"
      ]
     },
     "metadata": {},
     "output_type": "display_data"
    },
    {
     "data": {
      "application/vnd.jupyter.widget-view+json": {
       "model_id": "c3a90462b1144f5da1151a742d688fb8",
       "version_major": 2,
       "version_minor": 0
      },
      "text/plain": [
       "special_tokens_map.json:   0%|          | 0.00/124 [00:00<?, ?B/s]"
      ]
     },
     "metadata": {},
     "output_type": "display_data"
    }
   ],
   "source": [
    "# 3. 토크나이저 및 전처리\n",
    "model_name = \"beomi/KcELECTRA-base-v2022\"\n",
    "tokenizer = AutoTokenizer.from_pretrained(model_name)"
   ]
  },
  {
   "cell_type": "code",
   "execution_count": 35,
   "id": "263a9ce5-2009-48db-b510-4174a111ea5a",
   "metadata": {},
   "outputs": [],
   "source": [
    "def preprocess(batch):\n",
    "    return tokenizer(batch['text'], truncation=True, max_length=128)"
   ]
  },
  {
   "cell_type": "code",
   "execution_count": 37,
   "id": "670c7e8c-8b92-47f1-bc6c-89ff7f83b886",
   "metadata": {},
   "outputs": [
    {
     "data": {
      "application/vnd.jupyter.widget-view+json": {
       "model_id": "3963d2fcfa3c4193aceeedb6f3314e29",
       "version_major": 2,
       "version_minor": 0
      },
      "text/plain": [
       "Map:   0%|          | 0/50044 [00:00<?, ? examples/s]"
      ]
     },
     "metadata": {},
     "output_type": "display_data"
    },
    {
     "data": {
      "application/vnd.jupyter.widget-view+json": {
       "model_id": "3c27921a193f47558e4cf59186f941a2",
       "version_major": 2,
       "version_minor": 0
      },
      "text/plain": [
       "Map:   0%|          | 0/12512 [00:00<?, ? examples/s]"
      ]
     },
     "metadata": {},
     "output_type": "display_data"
    }
   ],
   "source": [
    "train_dataset = train_dataset.map(preprocess, batched=True)\n",
    "test_dataset = test_dataset.map(preprocess, batched=True)"
   ]
  },
  {
   "cell_type": "code",
   "execution_count": null,
   "id": "162b855b-1856-4daf-ba29-fc676e0e9efd",
   "metadata": {},
   "outputs": [],
   "source": [
    "from datasets import Value\n",
    "\n",
    "# 4. 라벨 타입 정수형으로 지정\n",
    "train_dataset = train_dataset.cast_column(\"label\", Value(\"int64\"))\n",
    "test_dataset = test_dataset.cast_column(\"label\", Value(\"int64\"))"
   ]
  },
  {
   "cell_type": "code",
   "execution_count": null,
   "id": "b058d86c-905b-44d1-be93-db8eae281c13",
   "metadata": {},
   "outputs": [],
   "source": [
    "# 3. Config 직접 설정 (Dropout 조정)\n",
    "config = ElectraConfig.from_pretrained(\n",
    "    model_name,\n",
    "    num_labels=3,\n",
    "    hidden_dropout_prob=0.4,               # ✅ hidden layer dropout 확률 조정\n",
    "    attention_probs_dropout_prob=0.4       # ✅ self-attention dropout 확률 조정\n",
    ")"
   ]
  },
  {
   "cell_type": "code",
   "execution_count": null,
   "id": "c4e2307a-3574-46f2-9ac3-75e7de4a54ab",
   "metadata": {},
   "outputs": [],
   "source": [
    "# 4. 모델 생성 (위 config 사용)\n",
    "model_0624_5 = ElectraForSequenceClassification.from_pretrained(\n",
    "    model_name,\n",
    "    config=config\n",
    ")"
   ]
  },
  {
   "cell_type": "code",
   "execution_count": 39,
   "id": "28b2cb46-0305-4e0b-b5d4-1ea30a95bd4c",
   "metadata": {},
   "outputs": [
    {
     "name": "stderr",
     "output_type": "stream",
     "text": [
      "C:\\Users\\User\\anaconda3\\envs\\deepnlpenv\\lib\\site-packages\\huggingface_hub\\file_download.py:943: FutureWarning: `resume_download` is deprecated and will be removed in version 1.0.0. Downloads always resume when possible. If you want to force a new download, use `force_download=True`.\n",
      "  warnings.warn(\n",
      "Xet Storage is enabled for this repo, but the 'hf_xet' package is not installed. Falling back to regular HTTP download. For better performance, install the package with: `pip install huggingface_hub[hf_xet]` or `pip install hf_xet`\n"
     ]
    },
    {
     "data": {
      "application/vnd.jupyter.widget-view+json": {
       "model_id": "e0a87a576bc94138bb8ada1b5591402a",
       "version_major": 2,
       "version_minor": 0
      },
      "text/plain": [
       "pytorch_model.bin:   0%|          | 0.00/511M [00:00<?, ?B/s]"
      ]
     },
     "metadata": {},
     "output_type": "display_data"
    },
    {
     "name": "stderr",
     "output_type": "stream",
     "text": [
      "Some weights of the model checkpoint at beomi/KcELECTRA-base-v2022 were not used when initializing ElectraForSequenceClassification: ['discriminator_predictions.dense_prediction.weight', 'discriminator_predictions.dense.weight', 'discriminator_predictions.dense.bias', 'discriminator_predictions.dense_prediction.bias']\n",
      "- This IS expected if you are initializing ElectraForSequenceClassification from the checkpoint of a model trained on another task or with another architecture (e.g. initializing a BertForSequenceClassification model from a BertForPreTraining model).\n",
      "- This IS NOT expected if you are initializing ElectraForSequenceClassification from the checkpoint of a model that you expect to be exactly identical (initializing a BertForSequenceClassification model from a BertForSequenceClassification model).\n",
      "Some weights of ElectraForSequenceClassification were not initialized from the model checkpoint at beomi/KcELECTRA-base-v2022 and are newly initialized: ['classifier.dense.bias', 'classifier.dense.weight', 'classifier.out_proj.bias', 'classifier.out_proj.weight']\n",
      "You should probably TRAIN this model on a down-stream task to be able to use it for predictions and inference.\n"
     ]
    }
   ],
   "source": [
    "# 5. Load the pre-trained model (with classification head for 3 classes)\n",
    "model = AutoModelForSequenceClassification.from_pretrained(model_name, num_labels=3)"
   ]
  },
  {
   "cell_type": "code",
   "execution_count": 41,
   "id": "fd230450-33cb-4f81-9222-aba8e3803ffa",
   "metadata": {},
   "outputs": [],
   "source": [
    "# 4. 평가지표 함수 정의\n",
    "def compute_metrics(pred):\n",
    "    labels = pred.label_ids\n",
    "    preds = np.argmax(pred.predictions, axis=1)\n",
    "    return {\n",
    "        \"accuracy\": (preds == labels).mean(),\n",
    "        \"macro_f1\": f1_score(labels, preds, average=\"macro\")\n",
    "    }"
   ]
  },
  {
   "cell_type": "code",
   "execution_count": null,
   "id": "b9434adb-1066-40e2-8509-faf13db8ee59",
   "metadata": {},
   "outputs": [],
   "source": [
    "from torch.nn import CrossEntropyLoss\n",
    "\n",
    "# 클래스별 가중치: (예시) [부정:1.0, 중립:2.0, 긍정:1.0]\n",
    "class_weights = torch.tensor([1.0, 2.0, 1.0]).to(model_0624_5.device)\n",
    "\n",
    "# Custom Trainer 정의\n",
    "class WeightedLossTrainer(Trainer):\n",
    "    def compute_loss(self, model, inputs, return_outputs=False):\n",
    "        labels = inputs.get(\"labels\")\n",
    "        outputs = model(**inputs)\n",
    "        logits = outputs.get(\"logits\")\n",
    "\n",
    "        # GPU로 class weight 보내기\n",
    "        weight = class_weights.to(model.device)\n",
    "        loss_fct = torch.nn.CrossEntropyLoss(weight=weight)\n",
    "        loss = loss_fct(logits, labels)\n",
    "\n",
    "        return (loss, outputs) if return_outputs else loss"
   ]
  },
  {
   "cell_type": "code",
   "execution_count": 43,
   "id": "51e6af24-2f6f-4e20-b757-2665913f6a2f",
   "metadata": {},
   "outputs": [],
   "source": [
    "# 5. Trainer 학습 설정\n",
    "training_args = TrainingArguments(\n",
    "    output_dir=\"./best_model\",\n",
    "    evaluation_strategy=\"steps\",\n",
    "    eval_steps=500,                 # evaluate every 500 steps\n",
    "    save_strategy=\"steps\",\n",
    "    save_steps=500,                 # save checkpoint every 500 steps\n",
    "    save_total_limit=2,             # keep only the 2 most recent checkpoints\n",
    "    load_best_model_at_end=True,\n",
    "    metric_for_best_model=\"macro_f1\",\n",
    "    greater_is_better=True,\n",
    "    \n",
    "    num_train_epochs=6,\n",
    "    per_device_train_batch_size=64,  # use 64 if possible (else reduce to 32)\n",
    "    per_device_eval_batch_size=64,\n",
    "    \n",
    "    learning_rate=3e-5,\n",
    "    weight_decay=0.01,\n",
    "    warmup_steps=500,               # ~5% of training steps as warm-up\n",
    "    logging_dir=\"./logs\",\n",
    "    logging_strategy=\"steps\",\n",
    "    logging_steps=100,              # log every 100 steps\n",
    "    \n",
    "    fp16=True,                      # enable mixed precision for speed\n",
    "    report_to=[],                   # disable default logging (TensorBoard, etc.)\n",
    "    seed=42\n",
    ")"
   ]
  },
  {
   "cell_type": "code",
   "execution_count": 45,
   "id": "13853e09-7795-4b75-b3bd-ff46aab2932d",
   "metadata": {},
   "outputs": [
    {
     "name": "stderr",
     "output_type": "stream",
     "text": [
      "Using cuda_amp half precision backend\n"
     ]
    }
   ],
   "source": [
    "# 8. Initialize Trainer with early stopping callback\n",
    "from transformers import EarlyStoppingCallback\n",
    "trainer = Trainer(\n",
    "    model=model,\n",
    "    args=training_args,\n",
    "    train_dataset=train_dataset,\n",
    "    eval_dataset=test_dataset,            # using our test_df as validation set for early stopping\n",
    "    tokenizer=tokenizer,\n",
    "    data_collator=DataCollatorWithPadding(tokenizer),  # dynamic padding to longest in batch\n",
    "    compute_metrics=compute_metrics,\n",
    "    callbacks=[EarlyStoppingCallback(early_stopping_patience=3)]\n",
    ")"
   ]
  },
  {
   "cell_type": "code",
   "execution_count": 47,
   "id": "f862395f-703c-4e00-b3fa-36593be9d1e5",
   "metadata": {
    "scrolled": true
   },
   "outputs": [
    {
     "name": "stderr",
     "output_type": "stream",
     "text": [
      "The following columns in the training set don't have a corresponding argument in `ElectraForSequenceClassification.forward` and have been ignored: text. If text are not expected by `ElectraForSequenceClassification.forward`,  you can safely ignore this message.\n",
      "C:\\Users\\User\\anaconda3\\envs\\deepnlpenv\\lib\\site-packages\\transformers\\optimization.py:306: FutureWarning: This implementation of AdamW is deprecated and will be removed in a future version. Use the PyTorch implementation torch.optim.AdamW instead, or set `no_deprecation_warning=True` to disable this warning\n",
      "  warnings.warn(\n",
      "***** Running training *****\n",
      "  Num examples = 50044\n",
      "  Num Epochs = 6\n",
      "  Instantaneous batch size per device = 64\n",
      "  Total train batch size (w. parallel, distributed & accumulation) = 64\n",
      "  Gradient Accumulation steps = 1\n",
      "  Total optimization steps = 4692\n",
      "  Number of trainable parameters = 127779075\n",
      "You're using a BertTokenizerFast tokenizer. Please note that with a fast tokenizer, using the `__call__` method is faster than using a method to encode the text followed by a call to the `pad` method to get a padded encoding.\n"
     ]
    },
    {
     "data": {
      "text/html": [
       "\n",
       "    <div>\n",
       "      \n",
       "      <progress value='3500' max='4692' style='width:300px; height:20px; vertical-align: middle;'></progress>\n",
       "      [3500/4692 17:14 < 05:52, 3.38 it/s, Epoch 4/6]\n",
       "    </div>\n",
       "    <table border=\"1\" class=\"dataframe\">\n",
       "  <thead>\n",
       " <tr style=\"text-align: left;\">\n",
       "      <th>Step</th>\n",
       "      <th>Training Loss</th>\n",
       "      <th>Validation Loss</th>\n",
       "      <th>Accuracy</th>\n",
       "      <th>Macro F1</th>\n",
       "    </tr>\n",
       "  </thead>\n",
       "  <tbody>\n",
       "    <tr>\n",
       "      <td>500</td>\n",
       "      <td>0.667700</td>\n",
       "      <td>0.673891</td>\n",
       "      <td>0.725304</td>\n",
       "      <td>0.724577</td>\n",
       "    </tr>\n",
       "    <tr>\n",
       "      <td>1000</td>\n",
       "      <td>0.620600</td>\n",
       "      <td>0.660814</td>\n",
       "      <td>0.731138</td>\n",
       "      <td>0.729606</td>\n",
       "    </tr>\n",
       "    <tr>\n",
       "      <td>1500</td>\n",
       "      <td>0.628900</td>\n",
       "      <td>0.652223</td>\n",
       "      <td>0.734575</td>\n",
       "      <td>0.731394</td>\n",
       "    </tr>\n",
       "    <tr>\n",
       "      <td>2000</td>\n",
       "      <td>0.543500</td>\n",
       "      <td>0.681402</td>\n",
       "      <td>0.730419</td>\n",
       "      <td>0.732368</td>\n",
       "    </tr>\n",
       "    <tr>\n",
       "      <td>2500</td>\n",
       "      <td>0.460500</td>\n",
       "      <td>0.719024</td>\n",
       "      <td>0.726982</td>\n",
       "      <td>0.727272</td>\n",
       "    </tr>\n",
       "    <tr>\n",
       "      <td>3000</td>\n",
       "      <td>0.451700</td>\n",
       "      <td>0.756609</td>\n",
       "      <td>0.725224</td>\n",
       "      <td>0.720584</td>\n",
       "    </tr>\n",
       "    <tr>\n",
       "      <td>3500</td>\n",
       "      <td>0.360600</td>\n",
       "      <td>0.821502</td>\n",
       "      <td>0.722267</td>\n",
       "      <td>0.720430</td>\n",
       "    </tr>\n",
       "  </tbody>\n",
       "</table><p>"
      ],
      "text/plain": [
       "<IPython.core.display.HTML object>"
      ]
     },
     "metadata": {},
     "output_type": "display_data"
    },
    {
     "name": "stderr",
     "output_type": "stream",
     "text": [
      "The following columns in the evaluation set don't have a corresponding argument in `ElectraForSequenceClassification.forward` and have been ignored: text. If text are not expected by `ElectraForSequenceClassification.forward`,  you can safely ignore this message.\n",
      "***** Running Evaluation *****\n",
      "  Num examples = 12512\n",
      "  Batch size = 64\n",
      "Saving model checkpoint to ./best_model\\checkpoint-500\n",
      "Configuration saved in ./best_model\\checkpoint-500\\config.json\n",
      "Model weights saved in ./best_model\\checkpoint-500\\pytorch_model.bin\n",
      "tokenizer config file saved in ./best_model\\checkpoint-500\\tokenizer_config.json\n",
      "Special tokens file saved in ./best_model\\checkpoint-500\\special_tokens_map.json\n",
      "The following columns in the evaluation set don't have a corresponding argument in `ElectraForSequenceClassification.forward` and have been ignored: text. If text are not expected by `ElectraForSequenceClassification.forward`,  you can safely ignore this message.\n",
      "***** Running Evaluation *****\n",
      "  Num examples = 12512\n",
      "  Batch size = 64\n",
      "Saving model checkpoint to ./best_model\\checkpoint-1000\n",
      "Configuration saved in ./best_model\\checkpoint-1000\\config.json\n",
      "Model weights saved in ./best_model\\checkpoint-1000\\pytorch_model.bin\n",
      "tokenizer config file saved in ./best_model\\checkpoint-1000\\tokenizer_config.json\n",
      "Special tokens file saved in ./best_model\\checkpoint-1000\\special_tokens_map.json\n",
      "The following columns in the evaluation set don't have a corresponding argument in `ElectraForSequenceClassification.forward` and have been ignored: text. If text are not expected by `ElectraForSequenceClassification.forward`,  you can safely ignore this message.\n",
      "***** Running Evaluation *****\n",
      "  Num examples = 12512\n",
      "  Batch size = 64\n",
      "Saving model checkpoint to ./best_model\\checkpoint-1500\n",
      "Configuration saved in ./best_model\\checkpoint-1500\\config.json\n",
      "Model weights saved in ./best_model\\checkpoint-1500\\pytorch_model.bin\n",
      "tokenizer config file saved in ./best_model\\checkpoint-1500\\tokenizer_config.json\n",
      "Special tokens file saved in ./best_model\\checkpoint-1500\\special_tokens_map.json\n",
      "Deleting older checkpoint [best_model\\checkpoint-500] due to args.save_total_limit\n",
      "The following columns in the evaluation set don't have a corresponding argument in `ElectraForSequenceClassification.forward` and have been ignored: text. If text are not expected by `ElectraForSequenceClassification.forward`,  you can safely ignore this message.\n",
      "***** Running Evaluation *****\n",
      "  Num examples = 12512\n",
      "  Batch size = 64\n",
      "Saving model checkpoint to ./best_model\\checkpoint-2000\n",
      "Configuration saved in ./best_model\\checkpoint-2000\\config.json\n",
      "Model weights saved in ./best_model\\checkpoint-2000\\pytorch_model.bin\n",
      "tokenizer config file saved in ./best_model\\checkpoint-2000\\tokenizer_config.json\n",
      "Special tokens file saved in ./best_model\\checkpoint-2000\\special_tokens_map.json\n",
      "Deleting older checkpoint [best_model\\checkpoint-1000] due to args.save_total_limit\n",
      "The following columns in the evaluation set don't have a corresponding argument in `ElectraForSequenceClassification.forward` and have been ignored: text. If text are not expected by `ElectraForSequenceClassification.forward`,  you can safely ignore this message.\n",
      "***** Running Evaluation *****\n",
      "  Num examples = 12512\n",
      "  Batch size = 64\n",
      "Saving model checkpoint to ./best_model\\checkpoint-2500\n",
      "Configuration saved in ./best_model\\checkpoint-2500\\config.json\n",
      "Model weights saved in ./best_model\\checkpoint-2500\\pytorch_model.bin\n",
      "tokenizer config file saved in ./best_model\\checkpoint-2500\\tokenizer_config.json\n",
      "Special tokens file saved in ./best_model\\checkpoint-2500\\special_tokens_map.json\n",
      "Deleting older checkpoint [best_model\\checkpoint-1500] due to args.save_total_limit\n",
      "The following columns in the evaluation set don't have a corresponding argument in `ElectraForSequenceClassification.forward` and have been ignored: text. If text are not expected by `ElectraForSequenceClassification.forward`,  you can safely ignore this message.\n",
      "***** Running Evaluation *****\n",
      "  Num examples = 12512\n",
      "  Batch size = 64\n",
      "Saving model checkpoint to ./best_model\\checkpoint-3000\n",
      "Configuration saved in ./best_model\\checkpoint-3000\\config.json\n",
      "Model weights saved in ./best_model\\checkpoint-3000\\pytorch_model.bin\n",
      "tokenizer config file saved in ./best_model\\checkpoint-3000\\tokenizer_config.json\n",
      "Special tokens file saved in ./best_model\\checkpoint-3000\\special_tokens_map.json\n",
      "Deleting older checkpoint [best_model\\checkpoint-2500] due to args.save_total_limit\n",
      "The following columns in the evaluation set don't have a corresponding argument in `ElectraForSequenceClassification.forward` and have been ignored: text. If text are not expected by `ElectraForSequenceClassification.forward`,  you can safely ignore this message.\n",
      "***** Running Evaluation *****\n",
      "  Num examples = 12512\n",
      "  Batch size = 64\n",
      "Saving model checkpoint to ./best_model\\checkpoint-3500\n",
      "Configuration saved in ./best_model\\checkpoint-3500\\config.json\n",
      "Model weights saved in ./best_model\\checkpoint-3500\\pytorch_model.bin\n",
      "tokenizer config file saved in ./best_model\\checkpoint-3500\\tokenizer_config.json\n",
      "Special tokens file saved in ./best_model\\checkpoint-3500\\special_tokens_map.json\n",
      "Deleting older checkpoint [best_model\\checkpoint-3000] due to args.save_total_limit\n",
      "\n",
      "\n",
      "Training completed. Do not forget to share your model on huggingface.co/models =)\n",
      "\n",
      "\n",
      "Loading best model from ./best_model\\checkpoint-2000 (score: 0.7323683599804743).\n"
     ]
    },
    {
     "data": {
      "text/plain": [
       "TrainOutput(global_step=3500, training_loss=0.5630141350882394, metrics={'train_runtime': 1038.1374, 'train_samples_per_second': 289.233, 'train_steps_per_second': 4.52, 'total_flos': 1.3623544099180512e+16, 'train_loss': 0.5630141350882394, 'epoch': 4.48})"
      ]
     },
     "execution_count": 47,
     "metadata": {},
     "output_type": "execute_result"
    }
   ],
   "source": [
    "# 6. 학습 실행\n",
    "trainer.train()"
   ]
  },
  {
   "cell_type": "code",
   "execution_count": 48,
   "id": "a9f6b026-0d21-42e9-ad6b-eae3cac94e4b",
   "metadata": {
    "collapsed": true,
    "jupyter": {
     "outputs_hidden": true
    }
   },
   "outputs": [
    {
     "name": "stderr",
     "output_type": "stream",
     "text": [
      "The following columns in the test set don't have a corresponding argument in `ElectraForSequenceClassification.forward` and have been ignored: text. If text are not expected by `ElectraForSequenceClassification.forward`,  you can safely ignore this message.\n",
      "***** Running Prediction *****\n",
      "  Num examples = 12512\n",
      "  Batch size = 64\n"
     ]
    },
    {
     "data": {
      "text/html": [],
      "text/plain": [
       "<IPython.core.display.HTML object>"
      ]
     },
     "metadata": {},
     "output_type": "display_data"
    }
   ],
   "source": [
    "# 7. 테스트 데이터 예측\n",
    "preds = trainer.predict(test_dataset)\n",
    "y_pred = np.argmax(preds.predictions, axis=1)\n",
    "y_true = preds.label_ids"
   ]
  },
  {
   "cell_type": "code",
   "execution_count": 49,
   "id": "8e614792-7e97-4d59-a534-d0f5f6a13818",
   "metadata": {},
   "outputs": [
    {
     "name": "stdout",
     "output_type": "stream",
     "text": [
      "              precision    recall  f1-score   support\n",
      "\n",
      "          부정       0.88      0.73      0.80      4170\n",
      "          중립       0.65      0.66      0.66      4171\n",
      "          긍정       0.69      0.80      0.74      4171\n",
      "\n",
      "    accuracy                           0.73     12512\n",
      "   macro avg       0.74      0.73      0.73     12512\n",
      "weighted avg       0.74      0.73      0.73     12512\n",
      "\n"
     ]
    }
   ],
   "source": [
    "# 8. 결과 리포트 출력\n",
    "print(classification_report(y_true, y_pred, target_names=[\"부정\", \"중립\", \"긍정\"]))"
   ]
  },
  {
   "cell_type": "code",
   "execution_count": 69,
   "id": "ec7b6977-2c5d-45a4-a01d-bb81546ee185",
   "metadata": {},
   "outputs": [
    {
     "name": "stderr",
     "output_type": "stream",
     "text": [
      "The following columns in the test set don't have a corresponding argument in `ElectraForSequenceClassification.forward` and have been ignored: text. If text are not expected by `ElectraForSequenceClassification.forward`,  you can safely ignore this message.\n",
      "***** Running Prediction *****\n",
      "  Num examples = 12512\n",
      "  Batch size = 64\n"
     ]
    },
    {
     "data": {
      "text/html": [],
      "text/plain": [
       "<IPython.core.display.HTML object>"
      ]
     },
     "metadata": {},
     "output_type": "display_data"
    },
    {
     "name": "stdout",
     "output_type": "stream",
     "text": [
      "              precision    recall  f1-score   support\n",
      "\n",
      "          부정       0.88      0.73      0.80      4170\n",
      "          중립       0.65      0.66      0.66      4171\n",
      "          긍정       0.69      0.80      0.74      4171\n",
      "\n",
      "    accuracy                           0.73     12512\n",
      "   macro avg       0.74      0.73      0.73     12512\n",
      "weighted avg       0.74      0.73      0.73     12512\n",
      "\n"
     ]
    },
    {
     "data": {
      "image/png": "[encoded data removed]",
      "text/plain": [
       "<Figure size 600x500 with 2 Axes>"
      ]
     },
     "metadata": {},
     "output_type": "display_data"
    }
   ],
   "source": [
    "from sklearn.metrics import classification_report, confusion_matrix\n",
    "import matplotlib.pyplot as plt\n",
    "import seaborn as sns\n",
    "import platform\n",
    "\n",
    "# ✅ 한글 폰트 설정\n",
    "if platform.system() == 'Windows':\n",
    "    plt.rc('font', family='Malgun Gothic')\n",
    "elif platform.system() == 'Darwin':\n",
    "    plt.rc('font', family='AppleGothic')\n",
    "else:\n",
    "    plt.rc('font', family='NanumGothic')\n",
    "\n",
    "plt.rcParams['axes.unicode_minus'] = False  # 음수 기호 깨짐 방지\n",
    "\n",
    "# ✅ 1. 예측값\n",
    "preds = trainer.predict(test_dataset)\n",
    "y_pred = np.argmax(preds.predictions, axis=1)\n",
    "y_true = preds.label_ids\n",
    "\n",
    "# ✅ 2. classification report\n",
    "print(classification_report(y_true, y_pred, target_names=[\"부정\", \"중립\", \"긍정\"]))\n",
    "\n",
    "# ✅ 3. confusion matrix 시각화 (seaborn + 전체 수 기준)\n",
    "cm = confusion_matrix(y_true, y_pred)  # normalize=None 상태 유지\n",
    "\n",
    "plt.figure(figsize=(6, 5))\n",
    "sns.heatmap(cm, annot=True, fmt='d', cmap='Blues',\n",
    "            xticklabels=['부정', '중립', '긍정'],\n",
    "            yticklabels=['부정', '중립', '긍정'])\n",
    "\n",
    "plt.xlabel('예측 값')\n",
    "plt.ylabel('실제 값')\n",
    "plt.title('혼동 행렬 (전체 개수 기준)')\n",
    "plt.tight_layout()\n",
    "plt.show()\n"
   ]
  },
  {
   "cell_type": "code",
   "execution_count": 53,
   "id": "18562c25-25da-48c1-b168-643fa793af48",
   "metadata": {},
   "outputs": [
    {
     "name": "stderr",
     "output_type": "stream",
     "text": [
      "Saving model checkpoint to ./kc_electra_sentiment_model_0624_6\n",
      "Configuration saved in ./kc_electra_sentiment_model_0624_6\\config.json\n",
      "Model weights saved in ./kc_electra_sentiment_model_0624_6\\pytorch_model.bin\n",
      "tokenizer config file saved in ./kc_electra_sentiment_model_0624_6\\tokenizer_config.json\n",
      "Special tokens file saved in ./kc_electra_sentiment_model_0624_6\\special_tokens_map.json\n"
     ]
    }
   ],
   "source": [
    "# 9. 모델 저장\n",
    "trainer.save_model(\"./kc_electra_sentiment_model_0624_6\")"
   ]
  },
  {
   "cell_type": "code",
   "execution_count": 63,
   "id": "07808e52-c1ab-4ad2-96fb-b05b4fc4d663",
   "metadata": {},
   "outputs": [
    {
     "name": "stderr",
     "output_type": "stream",
     "text": [
      "loading file vocab.txt\n",
      "loading file tokenizer.json\n",
      "loading file added_tokens.json\n",
      "loading file special_tokens_map.json\n",
      "loading file tokenizer_config.json\n",
      "loading configuration file ./kc_electra_sentiment_model_0624_6\\config.json\n",
      "Model config ElectraConfig {\n",
      "  \"_name_or_path\": \"./kc_electra_sentiment_model_0624_6\",\n",
      "  \"architectures\": [\n",
      "    \"ElectraForSequenceClassification\"\n",
      "  ],\n",
      "  \"attention_probs_dropout_prob\": 0.1,\n",
      "  \"classifier_dropout\": null,\n",
      "  \"embedding_size\": 768,\n",
      "  \"hidden_act\": \"gelu\",\n",
      "  \"hidden_dropout_prob\": 0.1,\n",
      "  \"hidden_size\": 768,\n",
      "  \"id2label\": {\n",
      "    \"0\": \"LABEL_0\",\n",
      "    \"1\": \"LABEL_1\",\n",
      "    \"2\": \"LABEL_2\"\n",
      "  },\n",
      "  \"initializer_range\": 0.02,\n",
      "  \"intermediate_size\": 3072,\n",
      "  \"label2id\": {\n",
      "    \"LABEL_0\": 0,\n",
      "    \"LABEL_1\": 1,\n",
      "    \"LABEL_2\": 2\n",
      "  },\n",
      "  \"layer_norm_eps\": 1e-12,\n",
      "  \"max_position_embeddings\": 512,\n",
      "  \"model_type\": \"electra\",\n",
      "  \"num_attention_heads\": 12,\n",
      "  \"num_hidden_layers\": 12,\n",
      "  \"pad_token_id\": 0,\n",
      "  \"position_embedding_type\": \"absolute\",\n",
      "  \"problem_type\": \"single_label_classification\",\n",
      "  \"summary_activation\": \"gelu\",\n",
      "  \"summary_last_dropout\": 0.1,\n",
      "  \"summary_type\": \"first\",\n",
      "  \"summary_use_proj\": true,\n",
      "  \"tokenizer_class\": \"BertTokenizer\",\n",
      "  \"torch_dtype\": \"float32\",\n",
      "  \"transformers_version\": \"4.24.0\",\n",
      "  \"type_vocab_size\": 2,\n",
      "  \"use_cache\": true,\n",
      "  \"vocab_size\": 54343\n",
      "}\n",
      "\n",
      "loading weights file ./kc_electra_sentiment_model_0624_6\\pytorch_model.bin\n",
      "All model checkpoint weights were used when initializing ElectraForSequenceClassification.\n",
      "\n",
      "All the weights of ElectraForSequenceClassification were initialized from the model checkpoint at ./kc_electra_sentiment_model_0624_6.\n",
      "If your task is similar to the task the model of the checkpoint was trained on, you can already use ElectraForSequenceClassification for predictions without further training.\n"
     ]
    },
    {
     "name": "stdout",
     "output_type": "stream",
     "text": [
      "[부정] (98.14%) - 진짜 맛없고 최악이었어요.\n",
      "[중립] (95.70%) - 그냥 그랬어요. 무난한 편이에요.\n",
      "[긍정] (95.50%) - 진짜 존맛탱!! 또 올 거예요~\n",
      "[부정] (67.96%) - 서비스는 별로였지만 음식은 괜찮았어요.\n",
      "[부정] (96.49%) - 위생 상태가 좀 의심스럽네요.\n",
      "[긍정] (72.82%) - 오래 기다렸지만 맛있어요\n",
      "[부정] (95.36%) - 파 분명히 빼달라고 요청했는데 고의인지 실수인진 모르겠지만 결국에 넣으셨더라고요 사람 말 좀 제대로 들어주세요 맛은 맛있어요\n",
      "[중립] (66.87%) - 늦은시간 저녁이라 터미널 앞 김밥천국 24시간 하는곳으로 방문했습니다 메뉴판에 정말 다양한 메뉴들이 있었습니다 테이블도 많고 혼밥하시는 분들을 위한 자리도 많이 있어요 음식도 빨리 나오고 하나 같이 다 먹음직스럽게 생겼어요 여기는 다른지점에 거의 못본 곱배기도 있더라구요 너무 많이 시켜서 라볶이는 좀 남기긴 했지만 잘 먹고 왔어요 여기는 늦은시간에 오시는 손님도 정말 많지만 배달이 정말 많더라구요 음식들이 다 평타이상이라 뭘 시켜도 믿고 먹을수 있을거 같아요\n",
      "[부정] (94.45%) - 리모델링하고는 처음 가보네요 비슷한데 깔끔해지고 끝이 벽 보게 바뀌었네요 정수기 위치도 바뀌고 주방 위쪽에 일부 메뉴들 써있네요 참치김밥 주문했어요 5천원이에요 이렇게 비싼줄 몰랐네요ㅠ 일반만 3천인가 3500인가 그렇고 나머진 4500부터 시작이네요 김밥만 드실거면 선불이에요 깻잎에 참치 싸져있고 당근 우엉 햄 단무지 계란 들어가요 깻잎이 들어가서 그런가 오이나 시금치는 없네요 겉에 깨 조금 뿌려져있어요 전엔 엄청 맛있었는데 이번엔 그냥 맛있는 정도? 참치 양도 적어진 것 같은 느낌\n",
      "[부정] (41.09%) - 솔직히 김밥천국은 점바점이 강하잖아요..🥹 어딘 맛있는데 어딘 맛없고..그리고 불친절하거나 위생적이지 못한 곳도 많고해서 방문을 잘안했는데 청주터미널점은 김밥천국중에서도 제일 맛있고 친절하셔서 넘 좋더라고요~💖 그래서 그런가 늦은시간임에도 불구하고 식사하시는 손님들이 엄청 많았는데요, 시킨 메뉴 하나하나 다 맛있어서 놀랐답니다👍🏻👍🏻역시 그래서 그런지 배달이랑 포장주문도 많은데 바쁜데도 직원분들이 짜증한번 안내시고 친절하게 응대해주셔서 좋았어요🥰 학생들이 와서 김밥에 재료를 빼달라고 까다롭게 요청하는데도 짜증없이 친절하게 응대해주시고..🥹진짜 24시간인 점도 정말 좋고 김밥천국 생각날때는 집에서는 멀긴하지만 일부러 청주터미널점에 방문하고 싶을정도로 제가 방문했던 김밥천국 중 맛도 친절도 최고였답니다👍🏻👍🏻\n",
      "[중립] (80.39%) - 공사하고 깨끗해졌어요 항상 사람이 많아요.가성비 좋고 메뉴도 많아서 여러 명 가서 같이 먹어요.\n",
      "[부정] (81.64%) - 쫄면. 면이랑 콩나물이 너무 아삭? 해서 ㅠ.ㅠ\n",
      "[중립] (69.15%) - 늦은시간 한끼먹기에 좋음 역시 김천은 정식이 필수지...제육덮밥은 너무 짬. 리모델링끝났길래 다녀왔는데 음식가격이 올랐네.....쩝\n",
      "[긍정] (56.98%) - 우선 커피가 예술이에요~청주에서 보기드문 고퀄커피맛이에요~정말 커피에 진심인 곳 같아요~디저트류는 거의 없고 커피에 주력하시는 거 같아요~커피 진짜 최고에요~분위기랑 인테리어도 너무 좋아서 다시 한번 더 방문하고픈 카페에요~\n",
      "[중립] (52.50%) - 어렸을 적 할머니가 사시던 외갓집이 이런 분위기였어요. 벽과 천장이 나무로 되어 있어 따스한 곳이요. 창에 드리운 햇살과 음악, 커피의 조화 ... 더없이 평온했어요 ☕ 작가들의 핸드메이드 제품들이 곳곳에 있어 요모조모 살펴보기도 좋고 선물하기 좋은 제품들이 있어 몇가지 구매하고갑니다 ! 카페와 편집숍이 조화롭게 어울려 있어 좋았고 매 달 나오는 이 곳만의 소식지가 있었어요. 이야기 있는 이 공간에 다시 발걸음 하고 싶어요 😍\n",
      "[부정] (92.33%) - 😡😡😡😠😠😠\n",
      "[중립] (72.64%) - 😢😢😢💢\n"
     ]
    }
   ],
   "source": [
    "import torch\n",
    "from transformers import AutoTokenizer, AutoModelForSequenceClassification\n",
    "\n",
    "# 1. 모델과 토크나이저 로딩\n",
    "model_path = \"./kc_electra_sentiment_model_0624_6\"\n",
    "tokenizer = AutoTokenizer.from_pretrained(model_path)\n",
    "model = AutoModelForSequenceClassification.from_pretrained(model_path)\n",
    "\n",
    "# 2. GPU/CPU 장치 설정\n",
    "device = torch.device(\"cuda\" if torch.cuda.is_available() else \"cpu\")\n",
    "model.to(device)\n",
    "\n",
    "# 3. 감성 레이블\n",
    "labels = ['부정', '중립', '긍정']\n",
    "\n",
    "# 4. 예측 함수\n",
    "def predict_sentiment(text):\n",
    "    inputs = tokenizer(text, return_tensors=\"pt\", truncation=True, padding=\"max_length\", max_length=128)\n",
    "    inputs = {k: v.to(device) for k, v in inputs.items()}  # ✅ 입력도 GPU로 이동\n",
    "    with torch.no_grad():\n",
    "        outputs = model(**inputs)\n",
    "        probs = torch.nn.functional.softmax(outputs.logits, dim=1)[0]\n",
    "        label_idx = torch.argmax(probs).item()\n",
    "        return labels[label_idx], float(probs[label_idx])\n",
    "\n",
    "# 5. 테스트용 리뷰 샘플\n",
    "sample_reviews = [\n",
    "    \"진짜 맛없고 최악이었어요.\",\n",
    "    \"그냥 그랬어요. 무난한 편이에요.\",\n",
    "    \"진짜 존맛탱!! 또 올 거예요~\",\n",
    "    \"서비스는 별로였지만 음식은 괜찮았어요.\",\n",
    "    \"위생 상태가 좀 의심스럽네요.\",\n",
    "    \"오래 기다렸지만 맛있어요\",\n",
    "    \"파 분명히 빼달라고 요청했는데 고의인지 실수인진 모르겠지만 결국에 넣으셨더라고요 사람 말 좀 제대로 들어주세요 맛은 맛있어요\",\n",
    "    \"늦은시간 저녁이라 터미널 앞 김밥천국 24시간 하는곳으로 방문했습니다 메뉴판에 정말 다양한 메뉴들이 있었습니다 테이블도 많고 혼밥하시는 분들을 위한 자리도 많이 있어요 음식도 빨리 나오고 하나 같이 다 먹음직스럽게 생겼어요 여기는 다른지점에 거의 못본 곱배기도 있더라구요 너무 많이 시켜서 라볶이는 좀 남기긴 했지만 잘 먹고 왔어요 여기는 늦은시간에 오시는 손님도 정말 많지만 배달이 정말 많더라구요 음식들이 다 평타이상이라 뭘 시켜도 믿고 먹을수 있을거 같아요\",\n",
    "    \"리모델링하고는 처음 가보네요 비슷한데 깔끔해지고 끝이 벽 보게 바뀌었네요 정수기 위치도 바뀌고 주방 위쪽에 일부 메뉴들 써있네요 참치김밥 주문했어요 5천원이에요 이렇게 비싼줄 몰랐네요ㅠ 일반만 3천인가 3500인가 그렇고 나머진 4500부터 시작이네요 김밥만 드실거면 선불이에요 깻잎에 참치 싸져있고 당근 우엉 햄 단무지 계란 들어가요 깻잎이 들어가서 그런가 오이나 시금치는 없네요 겉에 깨 조금 뿌려져있어요 전엔 엄청 맛있었는데 이번엔 그냥 맛있는 정도? 참치 양도 적어진 것 같은 느낌\",\n",
    "    \"솔직히 김밥천국은 점바점이 강하잖아요..🥹 어딘 맛있는데 어딘 맛없고..그리고 불친절하거나 위생적이지 못한 곳도 많고해서 방문을 잘안했는데 청주터미널점은 김밥천국중에서도 제일 맛있고 친절하셔서 넘 좋더라고요~💖 그래서 그런가 늦은시간임에도 불구하고 식사하시는 손님들이 엄청 많았는데요, 시킨 메뉴 하나하나 다 맛있어서 놀랐답니다👍🏻👍🏻역시 그래서 그런지 배달이랑 포장주문도 많은데 바쁜데도 직원분들이 짜증한번 안내시고 친절하게 응대해주셔서 좋았어요🥰 학생들이 와서 김밥에 재료를 빼달라고 까다롭게 요청하는데도 짜증없이 친절하게 응대해주시고..🥹진짜 24시간인 점도 정말 좋고 김밥천국 생각날때는 집에서는 멀긴하지만 일부러 청주터미널점에 방문하고 싶을정도로 제가 방문했던 김밥천국 중 맛도 친절도 최고였답니다👍🏻👍🏻\",\n",
    "    \"공사하고 깨끗해졌어요 항상 사람이 많아요.가성비 좋고 메뉴도 많아서 여러 명 가서 같이 먹어요.\",\n",
    "    \"쫄면. 면이랑 콩나물이 너무 아삭? 해서 ㅠ.ㅠ\",\n",
    "    \"늦은시간 한끼먹기에 좋음 역시 김천은 정식이 필수지...제육덮밥은 너무 짬. 리모델링끝났길래 다녀왔는데 음식가격이 올랐네.....쩝\",\n",
    "    \"우선 커피가 예술이에요~청주에서 보기드문 고퀄커피맛이에요~정말 커피에 진심인 곳 같아요~디저트류는 거의 없고 커피에 주력하시는 거 같아요~커피 진짜 최고에요~분위기랑 인테리어도 너무 좋아서 다시 한번 더 방문하고픈 카페에요~\",\n",
    "    \"어렸을 적 할머니가 사시던 외갓집이 이런 분위기였어요. 벽과 천장이 나무로 되어 있어 따스한 곳이요. 창에 드리운 햇살과 음악, 커피의 조화 ... 더없이 평온했어요 ☕ 작가들의 핸드메이드 제품들이 곳곳에 있어 요모조모 살펴보기도 좋고 선물하기 좋은 제품들이 있어 몇가지 구매하고갑니다 ! 카페와 편집숍이 조화롭게 어울려 있어 좋았고 매 달 나오는 이 곳만의 소식지가 있었어요. 이야기 있는 이 공간에 다시 발걸음 하고 싶어요 😍\",\n",
    "    \"😡😡😡😠😠😠\",\n",
    "    \"😢😢😢💢\"\n",
    "]\n",
    "\n",
    "# 6. 결과 출력\n",
    "for review in sample_reviews:\n",
    "    label, prob = predict_sentiment(review)\n",
    "    print(f\"[{label}] ({prob:.2%}) - {review}\")\n"
   ]
  },
  {
   "cell_type": "code",
   "execution_count": 61,
   "id": "e23833b2-c9c6-4ed0-8cff-52e2f9f6d5d9",
   "metadata": {},
   "outputs": [
    {
     "data": {
      "image/png": "[encoded data removed]",
      "text/plain": [
       "<Figure size 1000x500 with 1 Axes>"
      ]
     },
     "metadata": {},
     "output_type": "display_data"
    },
    {
     "data": {
      "image/png": "[encoded data removed]",
      "text/plain": [
       "<Figure size 1000x500 with 1 Axes>"
      ]
     },
     "metadata": {},
     "output_type": "display_data"
    }
   ],
   "source": [
    "import json\n",
    "import matplotlib.pyplot as plt\n",
    "\n",
    "# trainer_state.json 경로\n",
    "trainer_state_path = \"./best_model/checkpoint-2000/trainer_state.json\"\n",
    "\n",
    "# JSON 파일 로드\n",
    "with open(trainer_state_path, \"r\", encoding=\"utf-8\") as f:\n",
    "    trainer_state = json.load(f)\n",
    "\n",
    "# 로그 내역 추출\n",
    "logs = trainer_state[\"log_history\"]\n",
    "\n",
    "# 값 저장용 리스트\n",
    "steps, train_loss, eval_loss, eval_accuracy = [], [], [], []\n",
    "\n",
    "# 로그 순회\n",
    "for entry in logs:\n",
    "    if \"loss\" in entry and \"step\" in entry:\n",
    "        steps.append(entry[\"step\"])\n",
    "        train_loss.append(entry[\"loss\"])\n",
    "    if \"eval_loss\" in entry:\n",
    "        eval_loss.append(entry[\"eval_loss\"])\n",
    "    if \"eval_accuracy\" in entry:\n",
    "        eval_accuracy.append(entry[\"eval_accuracy\"])\n",
    "\n",
    "# 🔹 1. Loss 그래프\n",
    "plt.figure(figsize=(10, 5))\n",
    "plt.plot(steps, train_loss, label=\"Train Loss\")\n",
    "plt.plot(steps[:len(eval_loss)], eval_loss, label=\"Eval Loss\")\n",
    "plt.xlabel(\"Steps\")\n",
    "plt.ylabel(\"Loss\")\n",
    "plt.title(\"Training and Evaluation Loss\")\n",
    "plt.legend()\n",
    "plt.grid(True)\n",
    "plt.show()\n",
    "\n",
    "# 🔹 2. Accuracy 그래프\n",
    "plt.figure(figsize=(10, 5))\n",
    "plt.plot(steps[:len(eval_accuracy)], eval_accuracy, label=\"Eval Accuracy\", color=\"green\")\n",
    "plt.xlabel(\"Steps\")\n",
    "plt.ylabel(\"Accuracy\")\n",
    "plt.title(\"Evaluation Accuracy\")\n",
    "plt.legend()\n",
    "plt.grid(True)\n",
    "plt.show()\n"
   ]
  },
  {
   "cell_type": "code",
   "execution_count": null,
   "id": "687bf8ec-49d2-46df-bbbc-bcbf57ee6aee",
   "metadata": {},
   "outputs": [],
   "source": []
  }
 ],
 "metadata": {
  "kernelspec": {
   "display_name": "DeepNLPEnv",
   "language": "python",
   "name": "deepnlpenv"
  },
  "language_info": {
   "codemirror_mode": {
    "name": "ipython",
    "version": 3
   },
   "file_extension": ".py",
   "mimetype": "text/x-python",
   "name": "python",
   "nbconvert_exporter": "python",
   "pygments_lexer": "ipython3",
   "version": "3.9.21"
  }
 },
 "nbformat": 4,
 "nbformat_minor": 5
}
