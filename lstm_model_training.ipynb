{
 "cells": [
  {
   "cell_type": "code",
   "execution_count": 1,
   "id": "9938ed80-1e3f-4f80-aee0-c52429bfe1cd",
   "metadata": {},
   "outputs": [],
   "source": [
    "# 1. 라이브러리\n",
    "import pandas as pd\n",
    "import numpy as np\n",
    "import re\n",
    "import matplotlib.pyplot as plt\n",
    "from sklearn.model_selection import train_test_split\n",
    "from sklearn.metrics import confusion_matrix, ConfusionMatrixDisplay, classification_report\n",
    "\n",
    "from tensorflow.keras.preprocessing.text import Tokenizer\n",
    "from tensorflow.keras.preprocessing.sequence import pad_sequences\n",
    "from tensorflow.keras.utils import to_categorical\n",
    "from tensorflow.keras.models import Sequential\n",
    "from tensorflow.keras.layers import Embedding, LSTM, Dense, Dropout\n",
    "from tensorflow.keras.callbacks import EarlyStopping"
   ]
  },
  {
   "cell_type": "code",
   "execution_count": 3,
   "id": "a56f888d-d926-4a98-a18f-fe20844b6026",
   "metadata": {},
   "outputs": [],
   "source": [
    "# 2. 데이터 불러오기\n",
    "df = pd.read_csv('labeled_reviews_lmstudio_cleaned.csv')  # 'text', 'label' 컬럼 포함"
   ]
  },
  {
   "cell_type": "code",
   "execution_count": 5,
   "id": "99952d2b-7163-496d-9829-2071af8eda4c",
   "metadata": {},
   "outputs": [],
   "source": [
    "# 3. 전처리\n",
    "df = df.dropna()  # 결측치 제거"
   ]
  },
  {
   "cell_type": "code",
   "execution_count": 7,
   "id": "6a0af1ab-76e0-4306-a487-282e8b5893dd",
   "metadata": {},
   "outputs": [
    {
     "name": "stdout",
     "output_type": "stream",
     "text": [
      "Index(['content', 'label', 'model_used'], dtype='object')\n"
     ]
    }
   ],
   "source": [
    "# 컬럼명 확인\n",
    "print(df.columns)  # 예: 'text', 'label' 확인"
   ]
  },
  {
   "cell_type": "code",
   "execution_count": 9,
   "id": "61c04678-7c36-4766-85f7-241b817f8768",
   "metadata": {},
   "outputs": [],
   "source": [
    "# 텍스트 전처리 함수\n",
    "def clean_text(text):\n",
    "    text = re.sub(r'[^\\w\\s]', '', text)  # 특수문자 제거\n",
    "    text = re.sub(r'\\d+', '', text)      # 숫자 제거\n",
    "    return text.lower().strip()          # 소문자 + 공백 제거"
   ]
  },
  {
   "cell_type": "code",
   "execution_count": 11,
   "id": "dc39e6db-cba4-481e-8a2e-16f689f23fd1",
   "metadata": {},
   "outputs": [],
   "source": [
    "# 텍스트, 라벨 분리\n",
    "X = df['content'].astype(str).apply(clean_text)\n",
    "y = df['label']"
   ]
  },
  {
   "cell_type": "code",
   "execution_count": 13,
   "id": "e2359a37-bd95-4da6-be3c-9bf71ec2d4cb",
   "metadata": {},
   "outputs": [
    {
     "name": "stdout",
     "output_type": "stream",
     "text": [
      "라벨 분포:\n",
      " label\n",
      "2    298637\n",
      "1     49560\n",
      "0     20871\n",
      "Name: count, dtype: int64\n"
     ]
    }
   ],
   "source": [
    "# 라벨 분포 확인\n",
    "print(\"라벨 분포:\\n\", y.value_counts())"
   ]
  },
  {
   "cell_type": "code",
   "execution_count": 15,
   "id": "811bdc70-7ed0-4e5a-afbe-e904c405fbdd",
   "metadata": {},
   "outputs": [
    {
     "name": "stdout",
     "output_type": "stream",
     "text": [
      "균형 맞춘 라벨 분포:\n",
      " label\n",
      "0    20871\n",
      "2    20871\n",
      "1    20871\n",
      "Name: count, dtype: int64\n"
     ]
    }
   ],
   "source": [
    "# 라벨 기준으로 데이터프레임 나누기\n",
    "df_0 = df[df['label'] == 0]\n",
    "df_1 = df[df['label'] == 1].sample(n=20871, random_state=42)\n",
    "df_2 = df[df['label'] == 2].sample(n=20871, random_state=42)\n",
    "\n",
    "# 세 클래스 합치기\n",
    "df_balanced = pd.concat([df_0, df_1, df_2]).sample(frac=1, random_state=42).reset_index(drop=True)\n",
    "\n",
    "# 라벨 분포 확인\n",
    "print(\"균형 맞춘 라벨 분포:\\n\", df_balanced['label'].value_counts())"
   ]
  },
  {
   "cell_type": "code",
   "execution_count": 25,
   "id": "0b23f59c-928d-4f71-8789-5eb3e8d4aac2",
   "metadata": {},
   "outputs": [],
   "source": [
    "# 4. 학습/테스트 분리\n",
    "X_train, X_test, y_train, y_test = train_test_split(\n",
    "    X, y, test_size=0.2, random_state=42, stratify=y\n",
    ")\n",
    "\n",
    "# 5. 토크나이저\n",
    "tokenizer = Tokenizer(num_words=10000, oov_token=\"<OOV>\")\n",
    "tokenizer.fit_on_texts(X_train)\n",
    "\n",
    "X_train_seq = tokenizer.texts_to_sequences(X_train)\n",
    "X_test_seq = tokenizer.texts_to_sequences(X_test)\n",
    "\n",
    "# 6. 패딩\n",
    "max_len = 80\n",
    "X_train_pad = pad_sequences(X_train_seq, maxlen=max_len, padding='post')\n",
    "X_test_pad = pad_sequences(X_test_seq, maxlen=max_len, padding='post')\n",
    "\n",
    "# 7. 라벨 원핫 인코딩\n",
    "num_classes = len(y.unique())  # 예: 3 (부정/중립/긍정)\n",
    "y_train_cat = to_categorical(y_train, num_classes=num_classes)\n",
    "y_test_cat = to_categorical(y_test, num_classes=num_classes)"
   ]
  },
  {
   "cell_type": "code",
   "execution_count": 27,
   "id": "4d750c95-a1a5-4857-ae42-0d324d77f89e",
   "metadata": {},
   "outputs": [
    {
     "name": "stderr",
     "output_type": "stream",
     "text": [
      "C:\\Users\\User\\anaconda3\\envs\\deepnlpenv\\lib\\site-packages\\keras\\src\\layers\\core\\embedding.py:90: UserWarning: Argument `input_length` is deprecated. Just remove it.\n",
      "  warnings.warn(\n"
     ]
    },
    {
     "data": {
      "text/html": [
       "<pre style=\"white-space:pre;overflow-x:auto;line-height:normal;font-family:Menlo,'DejaVu Sans Mono',consolas,'Courier New',monospace\"><span style=\"font-weight: bold\">Model: \"sequential_1\"</span>\n",
       "</pre>\n"
      ],
      "text/plain": [
       "\u001b[1mModel: \"sequential_1\"\u001b[0m\n"
      ]
     },
     "metadata": {},
     "output_type": "display_data"
    },
    {
     "data": {
      "text/html": [
       "<pre style=\"white-space:pre;overflow-x:auto;line-height:normal;font-family:Menlo,'DejaVu Sans Mono',consolas,'Courier New',monospace\">┏━━━━━━━━━━━━━━━━━━━━━━━━━━━━━━━━━━━━━━┳━━━━━━━━━━━━━━━━━━━━━━━━━━━━━┳━━━━━━━━━━━━━━━━━┓\n",
       "┃<span style=\"font-weight: bold\"> Layer (type)                         </span>┃<span style=\"font-weight: bold\"> Output Shape                </span>┃<span style=\"font-weight: bold\">         Param # </span>┃\n",
       "┡━━━━━━━━━━━━━━━━━━━━━━━━━━━━━━━━━━━━━━╇━━━━━━━━━━━━━━━━━━━━━━━━━━━━━╇━━━━━━━━━━━━━━━━━┩\n",
       "│ embedding_1 (<span style=\"color: #0087ff; text-decoration-color: #0087ff\">Embedding</span>)              │ ?                           │     <span style=\"color: #00af00; text-decoration-color: #00af00\">0</span> (unbuilt) │\n",
       "├──────────────────────────────────────┼─────────────────────────────┼─────────────────┤\n",
       "│ lstm_1 (<span style=\"color: #0087ff; text-decoration-color: #0087ff\">LSTM</span>)                        │ ?                           │     <span style=\"color: #00af00; text-decoration-color: #00af00\">0</span> (unbuilt) │\n",
       "├──────────────────────────────────────┼─────────────────────────────┼─────────────────┤\n",
       "│ dropout_2 (<span style=\"color: #0087ff; text-decoration-color: #0087ff\">Dropout</span>)                  │ ?                           │               <span style=\"color: #00af00; text-decoration-color: #00af00\">0</span> │\n",
       "├──────────────────────────────────────┼─────────────────────────────┼─────────────────┤\n",
       "│ dense_2 (<span style=\"color: #0087ff; text-decoration-color: #0087ff\">Dense</span>)                      │ ?                           │     <span style=\"color: #00af00; text-decoration-color: #00af00\">0</span> (unbuilt) │\n",
       "├──────────────────────────────────────┼─────────────────────────────┼─────────────────┤\n",
       "│ dropout_3 (<span style=\"color: #0087ff; text-decoration-color: #0087ff\">Dropout</span>)                  │ ?                           │               <span style=\"color: #00af00; text-decoration-color: #00af00\">0</span> │\n",
       "├──────────────────────────────────────┼─────────────────────────────┼─────────────────┤\n",
       "│ dense_3 (<span style=\"color: #0087ff; text-decoration-color: #0087ff\">Dense</span>)                      │ ?                           │     <span style=\"color: #00af00; text-decoration-color: #00af00\">0</span> (unbuilt) │\n",
       "└──────────────────────────────────────┴─────────────────────────────┴─────────────────┘\n",
       "</pre>\n"
      ],
      "text/plain": [
       "┏━━━━━━━━━━━━━━━━━━━━━━━━━━━━━━━━━━━━━━┳━━━━━━━━━━━━━━━━━━━━━━━━━━━━━┳━━━━━━━━━━━━━━━━━┓\n",
       "┃\u001b[1m \u001b[0m\u001b[1mLayer (type)                        \u001b[0m\u001b[1m \u001b[0m┃\u001b[1m \u001b[0m\u001b[1mOutput Shape               \u001b[0m\u001b[1m \u001b[0m┃\u001b[1m \u001b[0m\u001b[1m        Param #\u001b[0m\u001b[1m \u001b[0m┃\n",
       "┡━━━━━━━━━━━━━━━━━━━━━━━━━━━━━━━━━━━━━━╇━━━━━━━━━━━━━━━━━━━━━━━━━━━━━╇━━━━━━━━━━━━━━━━━┩\n",
       "│ embedding_1 (\u001b[38;5;33mEmbedding\u001b[0m)              │ ?                           │     \u001b[38;5;34m0\u001b[0m (unbuilt) │\n",
       "├──────────────────────────────────────┼─────────────────────────────┼─────────────────┤\n",
       "│ lstm_1 (\u001b[38;5;33mLSTM\u001b[0m)                        │ ?                           │     \u001b[38;5;34m0\u001b[0m (unbuilt) │\n",
       "├──────────────────────────────────────┼─────────────────────────────┼─────────────────┤\n",
       "│ dropout_2 (\u001b[38;5;33mDropout\u001b[0m)                  │ ?                           │               \u001b[38;5;34m0\u001b[0m │\n",
       "├──────────────────────────────────────┼─────────────────────────────┼─────────────────┤\n",
       "│ dense_2 (\u001b[38;5;33mDense\u001b[0m)                      │ ?                           │     \u001b[38;5;34m0\u001b[0m (unbuilt) │\n",
       "├──────────────────────────────────────┼─────────────────────────────┼─────────────────┤\n",
       "│ dropout_3 (\u001b[38;5;33mDropout\u001b[0m)                  │ ?                           │               \u001b[38;5;34m0\u001b[0m │\n",
       "├──────────────────────────────────────┼─────────────────────────────┼─────────────────┤\n",
       "│ dense_3 (\u001b[38;5;33mDense\u001b[0m)                      │ ?                           │     \u001b[38;5;34m0\u001b[0m (unbuilt) │\n",
       "└──────────────────────────────────────┴─────────────────────────────┴─────────────────┘\n"
      ]
     },
     "metadata": {},
     "output_type": "display_data"
    },
    {
     "data": {
      "text/html": [
       "<pre style=\"white-space:pre;overflow-x:auto;line-height:normal;font-family:Menlo,'DejaVu Sans Mono',consolas,'Courier New',monospace\"><span style=\"font-weight: bold\"> Total params: </span><span style=\"color: #00af00; text-decoration-color: #00af00\">0</span> (0.00 B)\n",
       "</pre>\n"
      ],
      "text/plain": [
       "\u001b[1m Total params: \u001b[0m\u001b[38;5;34m0\u001b[0m (0.00 B)\n"
      ]
     },
     "metadata": {},
     "output_type": "display_data"
    },
    {
     "data": {
      "text/html": [
       "<pre style=\"white-space:pre;overflow-x:auto;line-height:normal;font-family:Menlo,'DejaVu Sans Mono',consolas,'Courier New',monospace\"><span style=\"font-weight: bold\"> Trainable params: </span><span style=\"color: #00af00; text-decoration-color: #00af00\">0</span> (0.00 B)\n",
       "</pre>\n"
      ],
      "text/plain": [
       "\u001b[1m Trainable params: \u001b[0m\u001b[38;5;34m0\u001b[0m (0.00 B)\n"
      ]
     },
     "metadata": {},
     "output_type": "display_data"
    },
    {
     "data": {
      "text/html": [
       "<pre style=\"white-space:pre;overflow-x:auto;line-height:normal;font-family:Menlo,'DejaVu Sans Mono',consolas,'Courier New',monospace\"><span style=\"font-weight: bold\"> Non-trainable params: </span><span style=\"color: #00af00; text-decoration-color: #00af00\">0</span> (0.00 B)\n",
       "</pre>\n"
      ],
      "text/plain": [
       "\u001b[1m Non-trainable params: \u001b[0m\u001b[38;5;34m0\u001b[0m (0.00 B)\n"
      ]
     },
     "metadata": {},
     "output_type": "display_data"
    }
   ],
   "source": [
    "# 8. 모델 정의\n",
    "model = Sequential([\n",
    "    Embedding(input_dim=10000, output_dim=128, input_length=max_len),\n",
    "    LSTM(64, return_sequences=False),\n",
    "    Dropout(0.3),\n",
    "    Dense(32, activation='relu'),\n",
    "    Dropout(0.4),\n",
    "    Dense(num_classes, activation='softmax')\n",
    "])\n",
    "\n",
    "model.compile(optimizer='adam', loss='categorical_crossentropy', metrics=['accuracy'])\n",
    "model.summary()\n",
    "\n",
    "# 9. EarlyStopping 콜백\n",
    "early_stop = EarlyStopping(\n",
    "    monitor='val_loss',\n",
    "    patience=5,\n",
    "    restore_best_weights=True\n",
    ")"
   ]
  },
  {
   "cell_type": "code",
   "execution_count": 29,
   "id": "863e841c-183c-4baf-a5f2-453aa79c26ee",
   "metadata": {},
   "outputs": [
    {
     "name": "stdout",
     "output_type": "stream",
     "text": [
      "Epoch 1/50\n",
      "\u001b[1m3691/3691\u001b[0m \u001b[32m━━━━━━━━━━━━━━━━━━━━\u001b[0m\u001b[37m\u001b[0m \u001b[1m56s\u001b[0m 15ms/step - accuracy: 0.8097 - loss: 0.5909 - val_accuracy: 0.8326 - val_loss: 0.4426\n",
      "Epoch 2/50\n",
      "\u001b[1m3691/3691\u001b[0m \u001b[32m━━━━━━━━━━━━━━━━━━━━\u001b[0m\u001b[37m\u001b[0m \u001b[1m55s\u001b[0m 15ms/step - accuracy: 0.8355 - loss: 0.4394 - val_accuracy: 0.8389 - val_loss: 0.4299\n",
      "Epoch 3/50\n",
      "\u001b[1m3691/3691\u001b[0m \u001b[32m━━━━━━━━━━━━━━━━━━━━\u001b[0m\u001b[37m\u001b[0m \u001b[1m55s\u001b[0m 15ms/step - accuracy: 0.8461 - loss: 0.4076 - val_accuracy: 0.8435 - val_loss: 0.4265\n",
      "Epoch 4/50\n",
      "\u001b[1m3691/3691\u001b[0m \u001b[32m━━━━━━━━━━━━━━━━━━━━\u001b[0m\u001b[37m\u001b[0m \u001b[1m55s\u001b[0m 15ms/step - accuracy: 0.8550 - loss: 0.3893 - val_accuracy: 0.8408 - val_loss: 0.4318\n",
      "Epoch 5/50\n",
      "\u001b[1m3691/3691\u001b[0m \u001b[32m━━━━━━━━━━━━━━━━━━━━\u001b[0m\u001b[37m\u001b[0m \u001b[1m55s\u001b[0m 15ms/step - accuracy: 0.8673 - loss: 0.3588 - val_accuracy: 0.8387 - val_loss: 0.4530\n",
      "Epoch 6/50\n",
      "\u001b[1m3691/3691\u001b[0m \u001b[32m━━━━━━━━━━━━━━━━━━━━\u001b[0m\u001b[37m\u001b[0m \u001b[1m55s\u001b[0m 15ms/step - accuracy: 0.8775 - loss: 0.3326 - val_accuracy: 0.8368 - val_loss: 0.4572\n",
      "Epoch 7/50\n",
      "\u001b[1m3691/3691\u001b[0m \u001b[32m━━━━━━━━━━━━━━━━━━━━\u001b[0m\u001b[37m\u001b[0m \u001b[1m56s\u001b[0m 15ms/step - accuracy: 0.8865 - loss: 0.3085 - val_accuracy: 0.8339 - val_loss: 0.4996\n",
      "Epoch 8/50\n",
      "\u001b[1m3691/3691\u001b[0m \u001b[32m━━━━━━━━━━━━━━━━━━━━\u001b[0m\u001b[37m\u001b[0m \u001b[1m56s\u001b[0m 15ms/step - accuracy: 0.8977 - loss: 0.2841 - val_accuracy: 0.8257 - val_loss: 0.5216\n"
     ]
    }
   ],
   "source": [
    "# 10. 모델 학습\n",
    "history = model.fit(\n",
    "    X_train_pad, y_train_cat,\n",
    "    epochs=50,\n",
    "    batch_size=64,\n",
    "    validation_split=0.2,\n",
    "    callbacks=[early_stop]\n",
    ")"
   ]
  },
  {
   "cell_type": "code",
   "execution_count": 31,
   "id": "be606710-b874-48d3-959c-319a0f924d39",
   "metadata": {},
   "outputs": [
    {
     "name": "stdout",
     "output_type": "stream",
     "text": [
      "\u001b[1m2307/2307\u001b[0m \u001b[32m━━━━━━━━━━━━━━━━━━━━\u001b[0m\u001b[37m\u001b[0m \u001b[1m9s\u001b[0m 4ms/step - accuracy: 0.8404 - loss: 0.4311\n",
      "\n",
      "✅ 최종 테스트 정확도: 0.8412\n"
     ]
    }
   ],
   "source": [
    "# 11. 평가\n",
    "loss, acc = model.evaluate(X_test_pad, y_test_cat)\n",
    "print(f\"\\n✅ 최종 테스트 정확도: {acc:.4f}\")"
   ]
  },
  {
   "cell_type": "code",
   "execution_count": 33,
   "id": "a83f218e-5e70-4056-b5e8-91704c2b3542",
   "metadata": {},
   "outputs": [
    {
     "name": "stdout",
     "output_type": "stream",
     "text": [
      "\u001b[1m2307/2307\u001b[0m \u001b[32m━━━━━━━━━━━━━━━━━━━━\u001b[0m\u001b[37m\u001b[0m \u001b[1m9s\u001b[0m 4ms/step\n"
     ]
    }
   ],
   "source": [
    "# 12. 예측\n",
    "preds = model.predict(X_test_pad)\n",
    "y_true = np.argmax(y_test_cat, axis=1)\n",
    "y_pred = np.argmax(preds, axis=1)"
   ]
  },
  {
   "cell_type": "code",
   "execution_count": 35,
   "id": "c25e9edf-0428-4616-9ff8-0834b648be96",
   "metadata": {},
   "outputs": [
    {
     "data": {
      "text/plain": [
       "<Figure size 1200x500 with 0 Axes>"
      ]
     },
     "execution_count": 35,
     "metadata": {},
     "output_type": "execute_result"
    },
    {
     "data": {
      "text/plain": [
       "<Figure size 1200x500 with 0 Axes>"
      ]
     },
     "metadata": {},
     "output_type": "display_data"
    }
   ],
   "source": [
    "# 13. 시각화\n",
    "plt.figure(figsize=(12, 5))"
   ]
  },
  {
   "cell_type": "code",
   "execution_count": 37,
   "id": "5c0f934f-5d4c-455e-880c-117e70f0b7f3",
   "metadata": {},
   "outputs": [
    {
     "data": {
      "image/png": "[encoded data removed]",
      "text/plain": [
       "<Figure size 640x480 with 1 Axes>"
      ]
     },
     "metadata": {},
     "output_type": "display_data"
    }
   ],
   "source": [
    "# 정확도 그래프\n",
    "plt.subplot(1, 2, 1)\n",
    "plt.plot(history.history['accuracy'], label='Train')\n",
    "plt.plot(history.history['val_accuracy'], label='Validation')\n",
    "plt.title('Accuracy')\n",
    "plt.xlabel('Epoch')\n",
    "plt.ylabel('Accuracy')\n",
    "plt.legend()\n",
    "plt.grid()"
   ]
  },
  {
   "cell_type": "code",
   "execution_count": 39,
   "id": "e90f1718-383c-4b70-bd55-d7e815b6d089",
   "metadata": {},
   "outputs": [
    {
     "data": {
      "image/png": "[encoded data removed]",
      "text/plain": [
       "<Figure size 640x480 with 1 Axes>"
      ]
     },
     "metadata": {},
     "output_type": "display_data"
    }
   ],
   "source": [
    "# 손실 그래프\n",
    "plt.subplot(1, 2, 2)\n",
    "plt.plot(history.history['loss'], label='Train')\n",
    "plt.plot(history.history['val_loss'], label='Validation')\n",
    "plt.title('Loss')\n",
    "plt.xlabel('Epoch')\n",
    "plt.ylabel('Loss')\n",
    "plt.legend()\n",
    "plt.grid()\n",
    "\n",
    "plt.tight_layout()\n",
    "plt.show()"
   ]
  },
  {
   "cell_type": "code",
   "execution_count": null,
   "id": "35cfab3e-7224-4816-a12c-a099c0f47354",
   "metadata": {},
   "outputs": [],
   "source": [
    "# 15. 분류 리포트\n",
    "print(\"=== 분류 리포트 (Classification Report) ===\")\n",
    "print(classification_report(y_true, y_pred, target_names=['부정', '중립', '긍정']))"
   ]
  },
  {
   "cell_type": "code",
   "execution_count": 41,
   "id": "5d1f4ff4-a425-48c8-9df5-40609d1bb8d9",
   "metadata": {},
   "outputs": [
    {
     "name": "stdout",
     "output_type": "stream",
     "text": [
      "\u001b[1m1/1\u001b[0m \u001b[32m━━━━━━━━━━━━━━━━━━━━\u001b[0m\u001b[37m\u001b[0m \u001b[1m0s\u001b[0m 28ms/step\n",
      "\n",
      "📝 리뷰: 고기 질도 좋고 직원분들 친절해서 기분 좋게 식사했어요.\n",
      "📌 예측 결과: 긍정 (96.85% 확신)\n",
      "\n",
      "📝 리뷰: 반찬 하나하나 정성이 느껴지고, 국물 맛도 깊어요.\n",
      "📌 예측 결과: 긍정 (96.90% 확신)\n",
      "\n",
      "📝 리뷰: 웨이팅 있었지만 기다릴만한 맛이었어요. 또 방문하고 싶네요.\n",
      "📌 예측 결과: 중립 (53.96% 확신)\n",
      "\n",
      "📝 리뷰: 분위기도 좋고 양도 넉넉해서 데이트 코스로 최고였어요.\n",
      "📌 예측 결과: 긍정 (96.12% 확신)\n",
      "\n",
      "📝 리뷰: 불맛이 진하게 나서 볶음밥이 정말 맛있었어요. 강추합니다.\n",
      "📌 예측 결과: 긍정 (97.37% 확신)\n",
      "\n",
      "📝 리뷰: 맛은 무난했어요. 특별히 인상적이진 않았지만 나쁘지 않았습니다.\n",
      "📌 예측 결과: 중립 (52.07% 확신)\n",
      "\n",
      "📝 리뷰: 친구랑 갔는데 조용해서 대화하기 좋았어요. 음식은 보통이에요.\n",
      "📌 예측 결과: 긍정 (58.89% 확신)\n",
      "\n",
      "📝 리뷰: 직원분이 조금 바빠보이긴 했지만 전반적으로 나쁘진 않았어요.\n",
      "📌 예측 결과: 중립 (55.09% 확신)\n",
      "\n",
      "📝 리뷰: 가격이 조금 있는 편인데, 양은 적당했어요. 재방문은 고민 중.\n",
      "📌 예측 결과: 중립 (51.86% 확신)\n",
      "\n",
      "📝 리뷰: 음식 나오기까지 시간이 좀 걸렸지만, 가게는 청결했어요.\n",
      "📌 예측 결과: 부정 (46.68% 확신)\n",
      "\n",
      "📝 리뷰: 고기에서 누린내가 나서 거의 못 먹었어요. 비위 상했습니다.\n",
      "📌 예측 결과: 부정 (72.89% 확신)\n",
      "\n",
      "📝 리뷰: 주문한 음식이 하나 빠졌는데 직원이 계속 미루기만 했어요.\n",
      "📌 예측 결과: 중립 (40.29% 확신)\n",
      "\n",
      "📝 리뷰: 사진 보고 기대했는데 현실은 너무 달라서 실망이에요.\n",
      "📌 예측 결과: 긍정 (57.46% 확신)\n",
      "\n",
      "📝 리뷰: 국물 맛이 너무 밍밍하고 재료도 신선하지 않은 느낌이었어요.\n",
      "📌 예측 결과: 부정 (75.05% 확신)\n",
      "\n",
      "📝 리뷰: 자리도 좁고 소음도 심해서 제대로 식사하기 힘들었어요.\n",
      "📌 예측 결과: 부정 (49.88% 확신)\n",
      "\n",
      "📝 리뷰: 진짜 맛없고 최악이었어요.\n",
      "📌 예측 결과: 긍정 (59.89% 확신)\n",
      "\n",
      "📝 리뷰: 그냥 그랬어요. 무난한 편이에요.\n",
      "📌 예측 결과: 중립 (70.95% 확신)\n",
      "\n",
      "📝 리뷰: 진짜 존맛탱!! 또 올 거예요~\n",
      "📌 예측 결과: 긍정 (97.49% 확신)\n",
      "\n",
      "📝 리뷰: 서비스는 별로였지만 음식은 괜찮았어요.\n",
      "📌 예측 결과: 중립 (46.05% 확신)\n",
      "\n",
      "📝 리뷰: 위생 상태가 좀 의심스럽네요.\n",
      "📌 예측 결과: 부정 (78.22% 확신)\n",
      "\n",
      "📝 리뷰: 오래 기다렸지만 맛있어요\n",
      "📌 예측 결과: 긍정 (76.81% 확신)\n",
      "\n",
      "📝 리뷰: 파 분명히 빼달라고 요청했는데 고의인지 실수인진 모르겠지만 결국에 넣으셨더라고요 사람 말 좀 제대로 들어주세요 맛은 맛있어요\n",
      "📌 예측 결과: 중립 (47.74% 확신)\n",
      "\n",
      "📝 리뷰: 늦은시간 저녁이라 터미널 앞 김밥천국 24시간 하는곳으로 방문했습니다 메뉴판에 정말 다양한 메뉴들이 있었습니다 테이블도 많고 혼밥하시는 분들을 위한 자리도 많이 있어요 음식도 빨리 나오고 하나 같이 다 먹음직스럽게 생겼어요 여기는 다른지점에 거의 못본 곱배기도 있더라구요 너무 많이 시켜서 라볶이는 좀 남기긴 했지만 잘 먹고 왔어요 여기는 늦은시간에 오시는 손님도 정말 많지만 배달이 정말 많더라구요 음식들이 다 평타이상이라 뭘 시켜도 믿고 먹을수 있을거 같아요\n",
      "📌 예측 결과: 긍정 (83.39% 확신)\n",
      "\n",
      "📝 리뷰: 리모델링하고는 처음 가보네요 비슷한데 깔끔해지고 끝이 벽 보게 바뀌었네요 정수기 위치도 바뀌고 주방 위쪽에 일부 메뉴들 써있네요 참치김밥 주문했어요 5천원이에요 이렇게 비싼줄 몰랐네요ㅠ 일반만 3천인가 3500인가 그렇고 나머진 4500부터 시작이네요 김밥만 드실거면 선불이에요 깻잎에 참치 싸져있고 당근 우엉 햄 단무지 계란 들어가요 깻잎이 들어가서 그런가 오이나 시금치는 없네요 겉에 깨 조금 뿌려져있어요 전엔 엄청 맛있었는데 이번엔 그냥 맛있는 정도? 참치 양도 적어진 것 같은 느낌\n",
      "📌 예측 결과: 부정 (73.85% 확신)\n",
      "\n",
      "📝 리뷰: 솔직히 김밥천국은 점바점이 강하잖아요..🥹 어딘 맛있는데 어딘 맛없고..그리고 불친절하거나 위생적이지 못한 곳도 많고해서 방문을 잘안했는데 청주터미널점은 김밥천국중에서도 제일 맛있고 친절하셔서 넘 좋더라고요~💖 그래서 그런가 늦은시간임에도 불구하고 식사하시는 손님들이 엄청 많았는데요, 시킨 메뉴 하나하나 다 맛있어서 놀랐답니다👍🏻👍🏻역시 그래서 그런지 배달이랑 포장주문도 많은데 바쁜데도 직원분들이 짜증한번 안내시고 친절하게 응대해주셔서 좋았어요🥰 학생들이 와서 김밥에 재료를 빼달라고 까다롭게 요청하는데도 짜증없이 친절하게 응대해주시고..🥹진짜 24시간인 점도 정말 좋고 김밥천국 생각날때는 집에서는 멀긴하지만 일부러 청주터미널점에 방문하고 싶을정도로 제가 방문했던 김밥천국 중 맛도 친절도 최고였답니다👍🏻👍🏻\n",
      "📌 예측 결과: 긍정 (87.00% 확신)\n",
      "\n",
      "📝 리뷰: 공사하고 깨끗해졌어요 항상 사람이 많아요.가성비 좋고 메뉴도 많아서 여러 명 가서 같이 먹어요.\n",
      "📌 예측 결과: 긍정 (60.08% 확신)\n",
      "\n",
      "📝 리뷰: 쫄면. 면이랑 콩나물이 너무 아삭? 해서 ㅠ.ㅠ\n",
      "📌 예측 결과: 부정 (44.77% 확신)\n",
      "\n",
      "📝 리뷰: 늦은시간 한끼먹기에 좋음 역시 김천은 정식이 필수지...제육덮밥은 너무 짬. 리모델링끝났길래 다녀왔는데 음식가격이 올랐네.....쩝\n",
      "📌 예측 결과: 긍정 (92.99% 확신)\n",
      "\n",
      "📝 리뷰: 우선 커피가 예술이에요~청주에서 보기드문 고퀄커피맛이에요~정말 커피에 진심인 곳 같아요~디저트류는 거의 없고 커피에 주력하시는 거 같아요~커피 진짜 최고에요~분위기랑 인테리어도 너무 좋아서 다시 한번 더 방문하고픈 카페에요~\n",
      "📌 예측 결과: 긍정 (87.27% 확신)\n",
      "\n",
      "📝 리뷰: 어렸을 적 할머니가 사시던 외갓집이 이런 분위기였어요. 벽과 천장이 나무로 되어 있어 따스한 곳이요. 창에 드리운 햇살과 음악, 커피의 조화 ... 더없이 평온했어요 ☕ 작가들의 핸드메이드 제품들이 곳곳에 있어 요모조모 살펴보기도 좋고 선물하기 좋은 제품들이 있어 몇가지 구매하고갑니다 ! 카페와 편집숍이 조화롭게 어울려 있어 좋았고 매 달 나오는 이 곳만의 소식지가 있었어요. 이야기 있는 이 공간에 다시 발걸음 하고 싶어요 😍\n",
      "📌 예측 결과: 긍정 (91.21% 확신)\n",
      "\n",
      "📝 리뷰: 😡😡😡😠😠😠\n",
      "📌 예측 결과: 긍정 (54.62% 확신)\n",
      "\n",
      "📝 리뷰: 😢😢😢💢\n",
      "📌 예측 결과: 긍정 (54.62% 확신)\n"
     ]
    }
   ],
   "source": [
    "# 16. 새로운 리뷰 예측하기\n",
    "def predict_sentiment(texts):\n",
    "    # 전처리\n",
    "    texts_clean = [clean_text(text) for text in texts]\n",
    "\n",
    "    # 시퀀스 변환\n",
    "    seq = tokenizer.texts_to_sequences(texts_clean)\n",
    "    pad = pad_sequences(seq, maxlen=max_len, padding='post')\n",
    "\n",
    "    # 예측\n",
    "    preds = model.predict(pad)\n",
    "    pred_labels = np.argmax(preds, axis=1)\n",
    "\n",
    "    # 라벨 매핑\n",
    "    label_map = {0: '부정', 1: '중립', 2: '긍정'}\n",
    "    for text, label, confidence in zip(texts, pred_labels, np.max(preds, axis=1)):\n",
    "        print(f\"\\n📝 리뷰: {text}\")\n",
    "        print(f\"📌 예측 결과: {label_map[label]} ({confidence*100:.2f}% 확신)\")\n",
    "\n",
    "# 💬 예측해볼 리뷰들\n",
    "new_reviews = [\n",
    "    \"고기 질도 좋고 직원분들 친절해서 기분 좋게 식사했어요.\",\n",
    "    \"반찬 하나하나 정성이 느껴지고, 국물 맛도 깊어요.\",\n",
    "    \"웨이팅 있었지만 기다릴만한 맛이었어요. 또 방문하고 싶네요.\",\n",
    "    \"분위기도 좋고 양도 넉넉해서 데이트 코스로 최고였어요.\",\n",
    "    \"불맛이 진하게 나서 볶음밥이 정말 맛있었어요. 강추합니다.\",\n",
    "    \"맛은 무난했어요. 특별히 인상적이진 않았지만 나쁘지 않았습니다.\",\n",
    "    \"친구랑 갔는데 조용해서 대화하기 좋았어요. 음식은 보통이에요.\",\n",
    "    \"직원분이 조금 바빠보이긴 했지만 전반적으로 나쁘진 않았어요.\",\n",
    "    \"가격이 조금 있는 편인데, 양은 적당했어요. 재방문은 고민 중.\",\n",
    "    \"음식 나오기까지 시간이 좀 걸렸지만, 가게는 청결했어요.\",\n",
    "    \"고기에서 누린내가 나서 거의 못 먹었어요. 비위 상했습니다.\",\n",
    "    \"주문한 음식이 하나 빠졌는데 직원이 계속 미루기만 했어요.\",\n",
    "    \"사진 보고 기대했는데 현실은 너무 달라서 실망이에요.\",\n",
    "    \"국물 맛이 너무 밍밍하고 재료도 신선하지 않은 느낌이었어요.\",\n",
    "    \"자리도 좁고 소음도 심해서 제대로 식사하기 힘들었어요.\",\n",
    "    \"진짜 맛없고 최악이었어요.\",\n",
    "    \"그냥 그랬어요. 무난한 편이에요.\",\n",
    "    \"진짜 존맛탱!! 또 올 거예요~\",\n",
    "    \"서비스는 별로였지만 음식은 괜찮았어요.\",\n",
    "    \"위생 상태가 좀 의심스럽네요.\",\n",
    "    \"오래 기다렸지만 맛있어요\",\n",
    "    \"파 분명히 빼달라고 요청했는데 고의인지 실수인진 모르겠지만 결국에 넣으셨더라고요 사람 말 좀 제대로 들어주세요 맛은 맛있어요\",\n",
    "    \"늦은시간 저녁이라 터미널 앞 김밥천국 24시간 하는곳으로 방문했습니다 메뉴판에 정말 다양한 메뉴들이 있었습니다 테이블도 많고 혼밥하시는 분들을 위한 자리도 많이 있어요 음식도 빨리 나오고 하나 같이 다 먹음직스럽게 생겼어요 여기는 다른지점에 거의 못본 곱배기도 있더라구요 너무 많이 시켜서 라볶이는 좀 남기긴 했지만 잘 먹고 왔어요 여기는 늦은시간에 오시는 손님도 정말 많지만 배달이 정말 많더라구요 음식들이 다 평타이상이라 뭘 시켜도 믿고 먹을수 있을거 같아요\",\n",
    "    \"리모델링하고는 처음 가보네요 비슷한데 깔끔해지고 끝이 벽 보게 바뀌었네요 정수기 위치도 바뀌고 주방 위쪽에 일부 메뉴들 써있네요 참치김밥 주문했어요 5천원이에요 이렇게 비싼줄 몰랐네요ㅠ 일반만 3천인가 3500인가 그렇고 나머진 4500부터 시작이네요 김밥만 드실거면 선불이에요 깻잎에 참치 싸져있고 당근 우엉 햄 단무지 계란 들어가요 깻잎이 들어가서 그런가 오이나 시금치는 없네요 겉에 깨 조금 뿌려져있어요 전엔 엄청 맛있었는데 이번엔 그냥 맛있는 정도? 참치 양도 적어진 것 같은 느낌\",\n",
    "    \"솔직히 김밥천국은 점바점이 강하잖아요..🥹 어딘 맛있는데 어딘 맛없고..그리고 불친절하거나 위생적이지 못한 곳도 많고해서 방문을 잘안했는데 청주터미널점은 김밥천국중에서도 제일 맛있고 친절하셔서 넘 좋더라고요~💖 그래서 그런가 늦은시간임에도 불구하고 식사하시는 손님들이 엄청 많았는데요, 시킨 메뉴 하나하나 다 맛있어서 놀랐답니다👍🏻👍🏻역시 그래서 그런지 배달이랑 포장주문도 많은데 바쁜데도 직원분들이 짜증한번 안내시고 친절하게 응대해주셔서 좋았어요🥰 학생들이 와서 김밥에 재료를 빼달라고 까다롭게 요청하는데도 짜증없이 친절하게 응대해주시고..🥹진짜 24시간인 점도 정말 좋고 김밥천국 생각날때는 집에서는 멀긴하지만 일부러 청주터미널점에 방문하고 싶을정도로 제가 방문했던 김밥천국 중 맛도 친절도 최고였답니다👍🏻👍🏻\",\n",
    "    \"공사하고 깨끗해졌어요 항상 사람이 많아요.가성비 좋고 메뉴도 많아서 여러 명 가서 같이 먹어요.\",\n",
    "    \"쫄면. 면이랑 콩나물이 너무 아삭? 해서 ㅠ.ㅠ\",\n",
    "    \"늦은시간 한끼먹기에 좋음 역시 김천은 정식이 필수지...제육덮밥은 너무 짬. 리모델링끝났길래 다녀왔는데 음식가격이 올랐네.....쩝\",\n",
    "    \"우선 커피가 예술이에요~청주에서 보기드문 고퀄커피맛이에요~정말 커피에 진심인 곳 같아요~디저트류는 거의 없고 커피에 주력하시는 거 같아요~커피 진짜 최고에요~분위기랑 인테리어도 너무 좋아서 다시 한번 더 방문하고픈 카페에요~\",\n",
    "    \"어렸을 적 할머니가 사시던 외갓집이 이런 분위기였어요. 벽과 천장이 나무로 되어 있어 따스한 곳이요. 창에 드리운 햇살과 음악, 커피의 조화 ... 더없이 평온했어요 ☕ 작가들의 핸드메이드 제품들이 곳곳에 있어 요모조모 살펴보기도 좋고 선물하기 좋은 제품들이 있어 몇가지 구매하고갑니다 ! 카페와 편집숍이 조화롭게 어울려 있어 좋았고 매 달 나오는 이 곳만의 소식지가 있었어요. 이야기 있는 이 공간에 다시 발걸음 하고 싶어요 😍\",\n",
    "    \"😡😡😡😠😠😠\",\n",
    "    \"😢😢😢💢\"\n",
    "]\n",
    "\n",
    "\n",
    "predict_sentiment(new_reviews)\n"
   ]
  },
  {
   "cell_type": "code",
   "execution_count": 43,
   "id": "8866d71e-b529-43bc-a08d-4c172aa05109",
   "metadata": {},
   "outputs": [],
   "source": [
    "from sklearn.metrics import confusion_matrix, classification_report\n",
    "import seaborn as sns\n",
    "import matplotlib.pyplot as plt\n",
    "import numpy as np\n"
   ]
  },
  {
   "cell_type": "code",
   "execution_count": 45,
   "id": "a050df56-8f92-42d8-beef-720ce0755a98",
   "metadata": {},
   "outputs": [
    {
     "name": "stdout",
     "output_type": "stream",
     "text": [
      "\u001b[1m2307/2307\u001b[0m \u001b[32m━━━━━━━━━━━━━━━━━━━━\u001b[0m\u001b[37m\u001b[0m \u001b[1m8s\u001b[0m 4ms/step\n"
     ]
    }
   ],
   "source": [
    "# 확률 예측 → 클래스 예측\n",
    "y_pred_proba = model.predict(X_test_pad)\n",
    "y_pred = np.argmax(y_pred_proba, axis=1)\n",
    "\n",
    "# 실제 정답\n",
    "y_true = np.argmax(y_test_cat, axis=1)"
   ]
  },
  {
   "cell_type": "code",
   "execution_count": 51,
   "id": "75f8bd99-fa52-4d97-98d1-cff4237768e9",
   "metadata": {},
   "outputs": [
    {
     "data": {
      "image/png": "[encoded data removed]",
      "text/plain": [
       "<Figure size 600x500 with 2 Axes>"
      ]
     },
     "metadata": {},
     "output_type": "display_data"
    }
   ],
   "source": [
    "import matplotlib.pyplot as plt\n",
    "import seaborn as sns\n",
    "from sklearn.metrics import confusion_matrix, classification_report\n",
    "import numpy as np\n",
    "import matplotlib.font_manager as fm\n",
    "\n",
    "# ✅ 한글 폰트 설정 (윈도우 기준 예시: 'Malgun Gothic')\n",
    "plt.rc('font', family='Malgun Gothic')       # Windows\n",
    "# plt.rc('font', family='AppleGothic')       # macOS\n",
    "plt.rcParams['axes.unicode_minus'] = False   # 음수 기호 깨짐 방지\n",
    "\n",
    "# ✅ 혼동 행렬 계산\n",
    "cm = confusion_matrix(y_true, y_pred)\n",
    "\n",
    "# ✅ 시각화\n",
    "plt.figure(figsize=(6, 5))\n",
    "sns.heatmap(cm, annot=True, fmt='d', cmap='Blues',\n",
    "            xticklabels=['부정', '중립', '긍정'],\n",
    "            yticklabels=['부정', '중립', '긍정'])\n",
    "plt.xlabel('예측 값')\n",
    "plt.ylabel('실제 값')\n",
    "plt.title('혼동 행렬')\n",
    "plt.tight_layout()\n",
    "plt.show()\n"
   ]
  },
  {
   "cell_type": "code",
   "execution_count": 49,
   "id": "c949add1-f950-4b06-9153-23902500764b",
   "metadata": {},
   "outputs": [
    {
     "name": "stdout",
     "output_type": "stream",
     "text": [
      "\n",
      "📋 Classification Report\n",
      "              precision    recall  f1-score   support\n",
      "\n",
      "          부정       0.69      0.47      0.56      4174\n",
      "          중립       0.51      0.20      0.28      9912\n",
      "          긍정       0.87      0.97      0.92     59728\n",
      "\n",
      "    accuracy                           0.84     73814\n",
      "   macro avg       0.69      0.55      0.59     73814\n",
      "weighted avg       0.81      0.84      0.81     73814\n",
      "\n"
     ]
    }
   ],
   "source": [
    "print(\"\\n📋 Classification Report\")\n",
    "print(classification_report(y_true, y_pred, target_names=['부정', '중립', '긍정']))"
   ]
  },
  {
   "cell_type": "code",
   "execution_count": 1,
   "id": "479ded23-f8f2-409a-9cac-4b2837ef5f7a",
   "metadata": {},
   "outputs": [
    {
     "ename": "NameError",
     "evalue": "name 'model' is not defined",
     "output_type": "error",
     "traceback": [
      "\u001b[1;31m---------------------------------------------------------------------------\u001b[0m",
      "\u001b[1;31mNameError\u001b[0m                                 Traceback (most recent call last)",
      "Cell \u001b[1;32mIn[1], line 2\u001b[0m\n\u001b[0;32m      1\u001b[0m \u001b[38;5;66;03m# 16. 모델 저장\u001b[39;00m\n\u001b[1;32m----> 2\u001b[0m \u001b[43mmodel\u001b[49m\u001b[38;5;241m.\u001b[39msave(\u001b[38;5;124m\"\u001b[39m\u001b[38;5;124mlstm_sentiment_model_2.h5\u001b[39m\u001b[38;5;124m\"\u001b[39m)\n",
      "\u001b[1;31mNameError\u001b[0m: name 'model' is not defined"
     ]
    }
   ],
   "source": [
    "# 16. 모델 저장\n",
    "model.save(\"lstm_sentiment_model.h5\")"
   ]
  },
  {
   "cell_type": "code",
   "execution_count": null,
   "id": "add04717-49f1-4929-a053-b528351bd0e8",
   "metadata": {},
   "outputs": [],
   "source": []
  }
 ],
 "metadata": {
  "kernelspec": {
   "display_name": "DeepNLPEnv",
   "language": "python",
   "name": "deepnlpenv"
  },
  "language_info": {
   "codemirror_mode": {
    "name": "ipython",
    "version": 3
   },
   "file_extension": ".py",
   "mimetype": "text/x-python",
   "name": "python",
   "nbconvert_exporter": "python",
   "pygments_lexer": "ipython3",
   "version": "3.9.21"
  }
 },
 "nbformat": 4,
 "nbformat_minor": 5
}
